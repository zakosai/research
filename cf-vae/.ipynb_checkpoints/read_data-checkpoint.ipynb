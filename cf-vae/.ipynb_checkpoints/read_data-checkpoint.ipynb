{
 "cells": [
  {
   "cell_type": "code",
   "execution_count": 18,
   "metadata": {},
   "outputs": [
    {
     "data": {
      "text/html": [
       "<div>\n",
       "<style scoped>\n",
       "    .dataframe tbody tr th:only-of-type {\n",
       "        vertical-align: middle;\n",
       "    }\n",
       "\n",
       "    .dataframe tbody tr th {\n",
       "        vertical-align: top;\n",
       "    }\n",
       "\n",
       "    .dataframe thead th {\n",
       "        text-align: right;\n",
       "    }\n",
       "</style>\n",
       "<table border=\"1\" class=\"dataframe\">\n",
       "  <thead>\n",
       "    <tr style=\"text-align: right;\">\n",
       "      <th></th>\n",
       "      <th>u_id</th>\n",
       "      <th>p_id</th>\n",
       "      <th>rating</th>\n",
       "      <th>time</th>\n",
       "    </tr>\n",
       "  </thead>\n",
       "  <tbody>\n",
       "    <tr>\n",
       "      <th>0</th>\n",
       "      <td>A1ZQZ8RJS1XVTX</td>\n",
       "      <td>0657745316</td>\n",
       "      <td>5.0</td>\n",
       "      <td>1381449600</td>\n",
       "    </tr>\n",
       "    <tr>\n",
       "      <th>1</th>\n",
       "      <td>A31W38VGZAUUM4</td>\n",
       "      <td>0700026444</td>\n",
       "      <td>5.0</td>\n",
       "      <td>1354752000</td>\n",
       "    </tr>\n",
       "    <tr>\n",
       "      <th>2</th>\n",
       "      <td>A3I0AV0UJX5OH0</td>\n",
       "      <td>1403796890</td>\n",
       "      <td>1.0</td>\n",
       "      <td>1385942400</td>\n",
       "    </tr>\n",
       "    <tr>\n",
       "      <th>3</th>\n",
       "      <td>A3QAAOLIXKV383</td>\n",
       "      <td>1403796890</td>\n",
       "      <td>3.0</td>\n",
       "      <td>1307836800</td>\n",
       "    </tr>\n",
       "    <tr>\n",
       "      <th>4</th>\n",
       "      <td>AB1A5EGHHVA9M</td>\n",
       "      <td>141278509X</td>\n",
       "      <td>5.0</td>\n",
       "      <td>1332547200</td>\n",
       "    </tr>\n",
       "  </tbody>\n",
       "</table>\n",
       "</div>"
      ],
      "text/plain": [
       "             u_id        p_id  rating        time\n",
       "0  A1ZQZ8RJS1XVTX  0657745316     5.0  1381449600\n",
       "1  A31W38VGZAUUM4  0700026444     5.0  1354752000\n",
       "2  A3I0AV0UJX5OH0  1403796890     1.0  1385942400\n",
       "3  A3QAAOLIXKV383  1403796890     3.0  1307836800\n",
       "4   AB1A5EGHHVA9M  141278509X     5.0  1332547200"
      ]
     },
     "execution_count": 18,
     "metadata": {},
     "output_type": "execute_result"
    }
   ],
   "source": [
    "import pandas as pd\n",
    "\n",
    "rating = pd.read_csv(\"data/amazon/ratings_Grocery_and_Gourmet_Food.csv\", sep=\",\", names=['u_id', 'p_id', 'rating', 'time'], header=None)\n",
    "rating.head()"
   ]
  },
  {
   "cell_type": "code",
   "execution_count": 29,
   "metadata": {},
   "outputs": [
    {
     "ename": "KeyboardInterrupt",
     "evalue": "",
     "output_type": "error",
     "traceback": [
      "\u001b[0;31m---------------------------------------------------------------------------\u001b[0m",
      "\u001b[0;31mKeyboardInterrupt\u001b[0m                         Traceback (most recent call last)",
      "\u001b[0;32m<ipython-input-29-f2562ff23a73>\u001b[0m in \u001b[0;36m<module>\u001b[0;34m()\u001b[0m\n\u001b[1;32m     14\u001b[0m   \u001b[0;32mreturn\u001b[0m \u001b[0mpd\u001b[0m\u001b[0;34m.\u001b[0m\u001b[0mDataFrame\u001b[0m\u001b[0;34m.\u001b[0m\u001b[0mfrom_dict\u001b[0m\u001b[0;34m(\u001b[0m\u001b[0mdf\u001b[0m\u001b[0;34m,\u001b[0m \u001b[0morient\u001b[0m\u001b[0;34m=\u001b[0m\u001b[0;34m'index'\u001b[0m\u001b[0;34m)\u001b[0m\u001b[0;34m\u001b[0m\u001b[0m\n\u001b[1;32m     15\u001b[0m \u001b[0;34m\u001b[0m\u001b[0m\n\u001b[0;32m---> 16\u001b[0;31m \u001b[0mproduct\u001b[0m \u001b[0;34m=\u001b[0m \u001b[0mgetDF\u001b[0m\u001b[0;34m(\u001b[0m\u001b[0;34m'data/amazon/meta_Grocery_and_Gourmet_Food.json.gz'\u001b[0m\u001b[0;34m)\u001b[0m\u001b[0;34m\u001b[0m\u001b[0m\n\u001b[0m\u001b[1;32m     17\u001b[0m \u001b[0mproduct\u001b[0m\u001b[0;34m.\u001b[0m\u001b[0mhead\u001b[0m\u001b[0;34m(\u001b[0m\u001b[0;36m10\u001b[0m\u001b[0;34m)\u001b[0m\u001b[0;34m\u001b[0m\u001b[0m\n",
      "\u001b[0;32m<ipython-input-29-f2562ff23a73>\u001b[0m in \u001b[0;36mgetDF\u001b[0;34m(path)\u001b[0m\n\u001b[1;32m      9\u001b[0m   \u001b[0mi\u001b[0m \u001b[0;34m=\u001b[0m \u001b[0;36m0\u001b[0m\u001b[0;34m\u001b[0m\u001b[0m\n\u001b[1;32m     10\u001b[0m   \u001b[0mdf\u001b[0m \u001b[0;34m=\u001b[0m \u001b[0;34m{\u001b[0m\u001b[0;34m}\u001b[0m\u001b[0;34m\u001b[0m\u001b[0m\n\u001b[0;32m---> 11\u001b[0;31m   \u001b[0;32mfor\u001b[0m \u001b[0md\u001b[0m \u001b[0;32min\u001b[0m \u001b[0mparse\u001b[0m\u001b[0;34m(\u001b[0m\u001b[0mpath\u001b[0m\u001b[0;34m)\u001b[0m\u001b[0;34m:\u001b[0m\u001b[0;34m\u001b[0m\u001b[0m\n\u001b[0m\u001b[1;32m     12\u001b[0m     \u001b[0mdf\u001b[0m\u001b[0;34m[\u001b[0m\u001b[0mi\u001b[0m\u001b[0;34m]\u001b[0m \u001b[0;34m=\u001b[0m \u001b[0md\u001b[0m\u001b[0;34m\u001b[0m\u001b[0m\n\u001b[1;32m     13\u001b[0m     \u001b[0mi\u001b[0m \u001b[0;34m+=\u001b[0m \u001b[0;36m1\u001b[0m\u001b[0;34m\u001b[0m\u001b[0m\n",
      "\u001b[0;32m<ipython-input-29-f2562ff23a73>\u001b[0m in \u001b[0;36mparse\u001b[0;34m(path)\u001b[0m\n\u001b[1;32m      4\u001b[0m   \u001b[0mg\u001b[0m \u001b[0;34m=\u001b[0m \u001b[0mgzip\u001b[0m\u001b[0;34m.\u001b[0m\u001b[0mopen\u001b[0m\u001b[0;34m(\u001b[0m\u001b[0mpath\u001b[0m\u001b[0;34m,\u001b[0m \u001b[0;34m'rb'\u001b[0m\u001b[0;34m)\u001b[0m\u001b[0;34m\u001b[0m\u001b[0m\n\u001b[1;32m      5\u001b[0m   \u001b[0;32mfor\u001b[0m \u001b[0ml\u001b[0m \u001b[0;32min\u001b[0m \u001b[0mg\u001b[0m\u001b[0;34m:\u001b[0m\u001b[0;34m\u001b[0m\u001b[0m\n\u001b[0;32m----> 6\u001b[0;31m     \u001b[0;32myield\u001b[0m \u001b[0meval\u001b[0m\u001b[0;34m(\u001b[0m\u001b[0ml\u001b[0m\u001b[0;34m)\u001b[0m\u001b[0;34m\u001b[0m\u001b[0m\n\u001b[0m\u001b[1;32m      7\u001b[0m \u001b[0;34m\u001b[0m\u001b[0m\n\u001b[1;32m      8\u001b[0m \u001b[0;32mdef\u001b[0m \u001b[0mgetDF\u001b[0m\u001b[0;34m(\u001b[0m\u001b[0mpath\u001b[0m\u001b[0;34m)\u001b[0m\u001b[0;34m:\u001b[0m\u001b[0;34m\u001b[0m\u001b[0m\n",
      "\u001b[0;32m<string>\u001b[0m in \u001b[0;36m<module>\u001b[0;34m()\u001b[0m\n",
      "\u001b[0;31mKeyboardInterrupt\u001b[0m: "
     ]
    }
   ],
   "source": [
    "import gzip\n",
    "\n",
    "def parse(path):\n",
    "  g = gzip.open(path, 'rb')\n",
    "  for l in g:\n",
    "    yield eval(l)\n",
    "\n",
    "def getDF(path):\n",
    "  i = 0\n",
    "  df = {}\n",
    "  for d in parse(path):\n",
    "    df[i] = d\n",
    "    i += 1\n",
    "  return pd.DataFrame.from_dict(df, orient='index')\n",
    "\n",
    "product = getDF('data/amazon/meta_Grocery_and_Gourmet_Food.json.gz')\n",
    "product.head(10)"
   ]
  },
  {
   "cell_type": "code",
   "execution_count": 28,
   "metadata": {},
   "outputs": [
    {
     "data": {
      "text/plain": [
       "63905"
      ]
     },
     "execution_count": 28,
     "metadata": {},
     "output_type": "execute_result"
    }
   ],
   "source": [
    "import numpy as np\n",
    "has_price = product[product['brand'].notna()]\n",
    "len(has_price)"
   ]
  },
  {
   "cell_type": "code",
   "execution_count": 19,
   "metadata": {},
   "outputs": [
    {
     "data": {
      "text/plain": [
       "768438"
      ]
     },
     "execution_count": 19,
     "metadata": {},
     "output_type": "execute_result"
    }
   ],
   "source": [
    "len(rating.u_id.unique())"
   ]
  },
  {
   "cell_type": "code",
   "execution_count": 30,
   "metadata": {},
   "outputs": [
    {
     "data": {
      "text/plain": [
       "'Silverpot Tea, Pure Darjeeling, is an exquisite tea enjoyed at leisure, when you want to relax or celebrate.   Its mellow yet layered taste will constantly surprise and delight.  This subtle and refined tea is of incomparable taste and flavor.  \\n\\nPackaged in an exotic handmade pinewood chestlet, this magnificent tea was rolled from tender leaves grown and hand plucked in the legendary mist covered fields of Darjeeling.\\n\\nFor authentic experience of this luxury tea, it is presented as 100 gms  loose leaf, and is a great way to show your appreciation, celebrate an occasion or send your best wishes.\\n\\nSilverpot is different - it embraces the pioneering spirit of the Ghose family, personifies the highest standards of excellence, and is proof that this is only possible from the love and care of a family tea company located at the country of origin, with a tea tradition of five generations.The Silverpot philosophy is, first and foremost, about a passionatecommitment to quality and a series of uncompromising choices. These, taken together, create a taste anda style that is as legendary as it is unique. Silverpot Tea balances richness, freshness andfinesse, and is nurtured from the leaf to the cup with painstaking care and attention to detail.HERITAGE.Silverpot is born of a cherished heritage dating back to 1879, when tea was still a monopoly of the colonial rulers, and the Ghose family established Indias first native owned tea plantation. The legacy of Debes Chandra Ghose and his family continues till this day. Each expression of Silverpot draws on the companys long history, rich traditions and legendary dedication to quality teas.'"
      ]
     },
     "execution_count": 30,
     "metadata": {},
     "output_type": "execute_result"
    }
   ],
   "source": [
    "product.description[1]"
   ]
  },
  {
   "cell_type": "code",
   "execution_count": 33,
   "metadata": {},
   "outputs": [
    {
     "data": {
      "text/html": [
       "<div>\n",
       "<style scoped>\n",
       "    .dataframe tbody tr th:only-of-type {\n",
       "        vertical-align: middle;\n",
       "    }\n",
       "\n",
       "    .dataframe tbody tr th {\n",
       "        vertical-align: top;\n",
       "    }\n",
       "\n",
       "    .dataframe thead th {\n",
       "        text-align: right;\n",
       "    }\n",
       "</style>\n",
       "<table border=\"1\" class=\"dataframe\">\n",
       "  <thead>\n",
       "    <tr style=\"text-align: right;\">\n",
       "      <th></th>\n",
       "      <th>asin</th>\n",
       "      <th>description</th>\n",
       "      <th>title</th>\n",
       "      <th>imUrl</th>\n",
       "      <th>related</th>\n",
       "      <th>salesRank</th>\n",
       "      <th>categories</th>\n",
       "      <th>price</th>\n",
       "      <th>brand</th>\n",
       "    </tr>\n",
       "  </thead>\n",
       "  <tbody>\n",
       "    <tr>\n",
       "      <th>0</th>\n",
       "      <td>0657745316</td>\n",
       "      <td>This is real vanilla extract made with only 3 ...</td>\n",
       "      <td>100 Percent All Natural Vanilla Extract</td>\n",
       "      <td>http://ecx.images-amazon.com/images/I/41gFi5h0...</td>\n",
       "      <td>{u'also_viewed': [u'B001GE8N4Y']}</td>\n",
       "      <td>{u'Grocery &amp; Gourmet Food': 374004}</td>\n",
       "      <td>[[Grocery &amp; Gourmet Food]]</td>\n",
       "      <td>NaN</td>\n",
       "      <td>NaN</td>\n",
       "    </tr>\n",
       "    <tr>\n",
       "      <th>1</th>\n",
       "      <td>0700026444</td>\n",
       "      <td>Silverpot Tea, Pure Darjeeling, is an exquisit...</td>\n",
       "      <td>Pure Darjeeling Tea: Loose Leaf</td>\n",
       "      <td>http://ecx.images-amazon.com/images/I/51hs8sox...</td>\n",
       "      <td>NaN</td>\n",
       "      <td>{u'Grocery &amp; Gourmet Food': 620307}</td>\n",
       "      <td>[[Grocery &amp; Gourmet Food]]</td>\n",
       "      <td>NaN</td>\n",
       "      <td>NaN</td>\n",
       "    </tr>\n",
       "    <tr>\n",
       "      <th>2</th>\n",
       "      <td>1403796890</td>\n",
       "      <td>Must have for any WWE Fan\\n \\n \\n \\nFeaturing ...</td>\n",
       "      <td>WWE Kids Todler Velvet Slippers featuring John...</td>\n",
       "      <td>http://ecx.images-amazon.com/images/I/518SEST5...</td>\n",
       "      <td>NaN</td>\n",
       "      <td>NaN</td>\n",
       "      <td>[[Grocery &amp; Gourmet Food]]</td>\n",
       "      <td>3.99</td>\n",
       "      <td>NaN</td>\n",
       "    </tr>\n",
       "    <tr>\n",
       "      <th>3</th>\n",
       "      <td>141278509X</td>\n",
       "      <td>Infused with Vitamins and Electrolytes Good So...</td>\n",
       "      <td>Archer Farms Strawberry Dragonfruit Drink Mix ...</td>\n",
       "      <td>http://ecx.images-amazon.com/images/I/51CFQIis...</td>\n",
       "      <td>{u'also_viewed': [u'B0051IETTY']}</td>\n",
       "      <td>{u'Grocery &amp; Gourmet Food': 620322}</td>\n",
       "      <td>[[Grocery &amp; Gourmet Food]]</td>\n",
       "      <td>NaN</td>\n",
       "      <td>NaN</td>\n",
       "    </tr>\n",
       "    <tr>\n",
       "      <th>4</th>\n",
       "      <td>1453060375</td>\n",
       "      <td>MiO Energy is your portable energy source givi...</td>\n",
       "      <td>Mio Energy Liquid Water Enhancer Black Cherry ...</td>\n",
       "      <td>http://ecx.images-amazon.com/images/I/51EUsMcn...</td>\n",
       "      <td>{u'also_viewed': [u'B006MSEOJ2', u'B005VOOQLO'...</td>\n",
       "      <td>{u'Grocery &amp; Gourmet Food': 268754}</td>\n",
       "      <td>[[Grocery &amp; Gourmet Food]]</td>\n",
       "      <td>11.99</td>\n",
       "      <td>Mio</td>\n",
       "    </tr>\n",
       "    <tr>\n",
       "      <th>5</th>\n",
       "      <td>1453060782</td>\n",
       "      <td>With these Splash water flavor enhancers you a...</td>\n",
       "      <td>Splash Energy Liquid Water Enhancer 24 Serving...</td>\n",
       "      <td>http://ecx.images-amazon.com/images/I/51-y9QTW...</td>\n",
       "      <td>{u'also_viewed': [u'B00C1LXBFC', u'B006MSEOJ2'...</td>\n",
       "      <td>NaN</td>\n",
       "      <td>[[Grocery &amp; Gourmet Food]]</td>\n",
       "      <td>6.39</td>\n",
       "      <td>NaN</td>\n",
       "    </tr>\n",
       "    <tr>\n",
       "      <th>6</th>\n",
       "      <td>1453060464</td>\n",
       "      <td>With these Splash water flavor enhancers you a...</td>\n",
       "      <td>Splash Energy Liquid Water Enhancer 24 Serving...</td>\n",
       "      <td>http://ecx.images-amazon.com/images/I/51-y9QTW...</td>\n",
       "      <td>{u'also_viewed': [u'B00C1LXBFC']}</td>\n",
       "      <td>{u'Grocery &amp; Gourmet Food': 221057}</td>\n",
       "      <td>[[Grocery &amp; Gourmet Food]]</td>\n",
       "      <td>NaN</td>\n",
       "      <td>NaN</td>\n",
       "    </tr>\n",
       "    <tr>\n",
       "      <th>7</th>\n",
       "      <td>1603112251</td>\n",
       "      <td>Become a cocktail king with these unique bitte...</td>\n",
       "      <td>Cocktail Kingdom Wormwood Bitters - 5 oz</td>\n",
       "      <td>http://ecx.images-amazon.com/images/I/41wokwTg...</td>\n",
       "      <td>{u'also_viewed': [u'B001CDTO6U', u'1580083595'...</td>\n",
       "      <td>{u'Grocery &amp; Gourmet Food': 43972}</td>\n",
       "      <td>[[Grocery &amp; Gourmet Food]]</td>\n",
       "      <td>17.95</td>\n",
       "      <td>NaN</td>\n",
       "    </tr>\n",
       "    <tr>\n",
       "      <th>8</th>\n",
       "      <td>1613170416</td>\n",
       "      <td>Twelve dice inspired by the Dresden Files nove...</td>\n",
       "      <td>Evil Hat Productions Fate Dice: Winter Knight</td>\n",
       "      <td>http://ecx.images-amazon.com/images/I/41Worg0y...</td>\n",
       "      <td>{u'also_bought': [u'0977153479', u'0977153487'...</td>\n",
       "      <td>{u'Toys &amp; Games': 26935}</td>\n",
       "      <td>[[Grocery &amp; Gourmet Food, Beverages, Coffee, C...</td>\n",
       "      <td>14.05</td>\n",
       "      <td>Evil Hat Productions</td>\n",
       "    </tr>\n",
       "    <tr>\n",
       "      <th>9</th>\n",
       "      <td>1837994021</td>\n",
       "      <td>A glass and a half full of joy! Imagine little...</td>\n",
       "      <td>Cadbury Dairy Milk Daim 120g</td>\n",
       "      <td>http://ecx.images-amazon.com/images/I/41a47ZTu...</td>\n",
       "      <td>{u'also_viewed': [u'B000JZHDWE', u'B004G9204K'...</td>\n",
       "      <td>{u'Grocery &amp; Gourmet Food': 457148}</td>\n",
       "      <td>[[Grocery &amp; Gourmet Food]]</td>\n",
       "      <td>11.95</td>\n",
       "      <td>Cadbury</td>\n",
       "    </tr>\n",
       "  </tbody>\n",
       "</table>\n",
       "</div>"
      ],
      "text/plain": [
       "         asin                                        description  \\\n",
       "0  0657745316  This is real vanilla extract made with only 3 ...   \n",
       "1  0700026444  Silverpot Tea, Pure Darjeeling, is an exquisit...   \n",
       "2  1403796890  Must have for any WWE Fan\\n \\n \\n \\nFeaturing ...   \n",
       "3  141278509X  Infused with Vitamins and Electrolytes Good So...   \n",
       "4  1453060375  MiO Energy is your portable energy source givi...   \n",
       "5  1453060782  With these Splash water flavor enhancers you a...   \n",
       "6  1453060464  With these Splash water flavor enhancers you a...   \n",
       "7  1603112251  Become a cocktail king with these unique bitte...   \n",
       "8  1613170416  Twelve dice inspired by the Dresden Files nove...   \n",
       "9  1837994021  A glass and a half full of joy! Imagine little...   \n",
       "\n",
       "                                               title  \\\n",
       "0            100 Percent All Natural Vanilla Extract   \n",
       "1                    Pure Darjeeling Tea: Loose Leaf   \n",
       "2  WWE Kids Todler Velvet Slippers featuring John...   \n",
       "3  Archer Farms Strawberry Dragonfruit Drink Mix ...   \n",
       "4  Mio Energy Liquid Water Enhancer Black Cherry ...   \n",
       "5  Splash Energy Liquid Water Enhancer 24 Serving...   \n",
       "6  Splash Energy Liquid Water Enhancer 24 Serving...   \n",
       "7           Cocktail Kingdom Wormwood Bitters - 5 oz   \n",
       "8      Evil Hat Productions Fate Dice: Winter Knight   \n",
       "9                       Cadbury Dairy Milk Daim 120g   \n",
       "\n",
       "                                               imUrl  \\\n",
       "0  http://ecx.images-amazon.com/images/I/41gFi5h0...   \n",
       "1  http://ecx.images-amazon.com/images/I/51hs8sox...   \n",
       "2  http://ecx.images-amazon.com/images/I/518SEST5...   \n",
       "3  http://ecx.images-amazon.com/images/I/51CFQIis...   \n",
       "4  http://ecx.images-amazon.com/images/I/51EUsMcn...   \n",
       "5  http://ecx.images-amazon.com/images/I/51-y9QTW...   \n",
       "6  http://ecx.images-amazon.com/images/I/51-y9QTW...   \n",
       "7  http://ecx.images-amazon.com/images/I/41wokwTg...   \n",
       "8  http://ecx.images-amazon.com/images/I/41Worg0y...   \n",
       "9  http://ecx.images-amazon.com/images/I/41a47ZTu...   \n",
       "\n",
       "                                             related  \\\n",
       "0                  {u'also_viewed': [u'B001GE8N4Y']}   \n",
       "1                                                NaN   \n",
       "2                                                NaN   \n",
       "3                  {u'also_viewed': [u'B0051IETTY']}   \n",
       "4  {u'also_viewed': [u'B006MSEOJ2', u'B005VOOQLO'...   \n",
       "5  {u'also_viewed': [u'B00C1LXBFC', u'B006MSEOJ2'...   \n",
       "6                  {u'also_viewed': [u'B00C1LXBFC']}   \n",
       "7  {u'also_viewed': [u'B001CDTO6U', u'1580083595'...   \n",
       "8  {u'also_bought': [u'0977153479', u'0977153487'...   \n",
       "9  {u'also_viewed': [u'B000JZHDWE', u'B004G9204K'...   \n",
       "\n",
       "                             salesRank  \\\n",
       "0  {u'Grocery & Gourmet Food': 374004}   \n",
       "1  {u'Grocery & Gourmet Food': 620307}   \n",
       "2                                  NaN   \n",
       "3  {u'Grocery & Gourmet Food': 620322}   \n",
       "4  {u'Grocery & Gourmet Food': 268754}   \n",
       "5                                  NaN   \n",
       "6  {u'Grocery & Gourmet Food': 221057}   \n",
       "7   {u'Grocery & Gourmet Food': 43972}   \n",
       "8             {u'Toys & Games': 26935}   \n",
       "9  {u'Grocery & Gourmet Food': 457148}   \n",
       "\n",
       "                                          categories  price  \\\n",
       "0                         [[Grocery & Gourmet Food]]    NaN   \n",
       "1                         [[Grocery & Gourmet Food]]    NaN   \n",
       "2                         [[Grocery & Gourmet Food]]   3.99   \n",
       "3                         [[Grocery & Gourmet Food]]    NaN   \n",
       "4                         [[Grocery & Gourmet Food]]  11.99   \n",
       "5                         [[Grocery & Gourmet Food]]   6.39   \n",
       "6                         [[Grocery & Gourmet Food]]    NaN   \n",
       "7                         [[Grocery & Gourmet Food]]  17.95   \n",
       "8  [[Grocery & Gourmet Food, Beverages, Coffee, C...  14.05   \n",
       "9                         [[Grocery & Gourmet Food]]  11.95   \n",
       "\n",
       "                  brand  \n",
       "0                   NaN  \n",
       "1                   NaN  \n",
       "2                   NaN  \n",
       "3                   NaN  \n",
       "4                   Mio  \n",
       "5                   NaN  \n",
       "6                   NaN  \n",
       "7                   NaN  \n",
       "8  Evil Hat Productions  \n",
       "9               Cadbury  "
      ]
     },
     "execution_count": 33,
     "metadata": {},
     "output_type": "execute_result"
    }
   ],
   "source": [
    "product.head(10)"
   ]
  },
  {
   "cell_type": "code",
   "execution_count": 39,
   "metadata": {},
   "outputs": [
    {
     "data": {
      "text/plain": [
       "162822"
      ]
     },
     "execution_count": 39,
     "metadata": {},
     "output_type": "execute_result"
    }
   ],
   "source": [
    "len(product.imUrl.unique())"
   ]
  },
  {
   "cell_type": "code",
   "execution_count": 40,
   "metadata": {},
   "outputs": [
    {
     "data": {
      "text/plain": [
       "171760"
      ]
     },
     "execution_count": 40,
     "metadata": {},
     "output_type": "execute_result"
    }
   ],
   "source": [
    "len(product)"
   ]
  },
  {
   "cell_type": "code",
   "execution_count": 44,
   "metadata": {},
   "outputs": [
    {
     "name": "stdout",
     "output_type": "stream",
     "text": [
      "['A31W38VGZAUUM4' '0700026444' 5.0 1354752000]\n"
     ]
    }
   ],
   "source": [
    "ratings = rating.as_matrix()\n",
    "user = []\n",
    "item = []\n",
    "rating_data = []\n",
    "for r  in ratings:\n",
    "    try:\n",
    "        user_id = user.index(r[0])\n",
    "    except:\n",
    "        user_id = len(user)\n",
    "        user.appennd(r[0])\n",
    "    \n",
    "    try:\n",
    "        item_id = item.index(r[1])\n",
    "    except:\n",
    "        item_id = len(item)\n",
    "        item.append(r[1])\n",
    "        \n",
    "    rating_data.append([user_id, item_id, r[2]])\n",
    "\n",
    "f_user = open(\"user_id.csv\", \"w\")\n",
    "f_item = open(\"item_id.csv\", \"w\")\n",
    "f_rating = open(\"ratings.csv\", \"w\")\n",
    "\n"
   ]
  },
  {
   "cell_type": "code",
   "execution_count": 49,
   "metadata": {},
   "outputs": [
    {
     "name": "stderr",
     "output_type": "stream",
     "text": [
      "Downloading 20news dataset. This may take a few minutes.\n",
      "Downloading dataset from https://ndownloader.figshare.com/files/5975967 (14 MB)\n"
     ]
    },
    {
     "name": "stdout",
     "output_type": "stream",
     "text": [
      "From: marshall@csugrad.cs.vt.edu (Kevin Marshall)\n",
      "Subject: Re: some thoughts.\n",
      "Organization: Virginia Tech Computer Science Dept, Blacksburg, VA\n",
      "Lines: 72\n",
      "NNTP-Posting-Host: csugrad.cs.vt.edu\n",
      "Keywords: Dan Bissell\n",
      "\n",
      "bissda@saturn.wwc.edu (DAN LAWRENCE BISSELL) writes:\n",
      "\n",
      ">\tSome reasons why he wouldn't be a liar are as follows.  Who would \n",
      ">die for a lie?  Wouldn't people be able to tell if he was a liar?  People \n",
      ">gathered around him and kept doing it, many gathered from hearing or seeing \n",
      ">someone who was or had been healed.  Call me a fool, but I believe he did \n",
      ">heal people.  \n",
      "\n",
      "Anyone who dies for a \"cause\" runs the risk of dying for a lie.  As for\n",
      "people being able to tell if he was a liar, well, we've had grifters and\n",
      "charlatans since the beginning of civilization.  If David Copperfield had\n",
      "been the Messiah, I bet he could have found plenty of believers.  \n",
      "Jesus was hardly the first to claim to be a faith healer, and he wasn't the\n",
      "first to be \"witnessed.\"  What sets him apart?\n",
      "\n",
      ">\tNiether was he a lunatic.  Would more than an entire nation be drawn \n",
      ">to someone who was crazy.  Very doubtful, in fact rediculous.  For example \n",
      ">anyone who is drawn to David Koresh is obviously a fool, logical people see \n",
      ">this right away.\n",
      "\n",
      "Rubbish.  Nations have followed crazies, liars, psychopaths, and \n",
      "megalomaniacs throughout history.  Hitler, Tojo, Mussolini, Khomeini,\n",
      "Qadaffi, Stalin, Papa Doc, and Nixon come to mind...all from this century.\n",
      "Koresh is a non-issue.\n",
      "\n",
      "\n",
      ">\tTherefore since he wasn't a liar or a lunatic, he must have been the \n",
      ">real thing.  \n",
      "\n",
      "Take a discrete mathematics or formal logic course.  There are flaws in your\n",
      "logic everywhere.  And as I'm sure others will tell you, read the FAQ!\n",
      "\n",
      "\n",
      ">\tSome other things to note.  He fulfilled loads of prophecies in \n",
      ">the psalms, Isaiah and elsewhere in 24 hrs alone.  This in his betrayal \n",
      ">and Crucifixion.  I don't have my Bible with me at this moment, next time I \n",
      ">write I will use it.\n",
      "\n",
      "Of course, you have to believe the Bible first.  Just because something is\n",
      "written in the Bible does not mean it is true, and the age of that tome plus\n",
      "the lack of external supporting evidence makes it less credible.  So if you\n",
      "do quote from the Bible in the future, try to back up that quote with \n",
      "supporting evidence.  Otherwise, you will get flamed mercilessly.\n",
      "\n",
      "\n",
      ">\tI don't think most people understand what a Christian is.  It \n",
      ">is certainly not what I see a lot in churches.  Rather I think it \n",
      ">should be a way of life, and a total sacrafice of everything for God's \n",
      ">sake.  He loved us enough to die and save us so we should do the \n",
      ">same.  Hey we can't do it, God himself inspires us to turn our lives \n",
      ">over to him.  That's tuff and most people don't want to do it, to be a \n",
      ">real Christian would be something for the strong to persevere at.  But \n",
      ">just like weight lifting or guitar playing, drums, whatever it takes \n",
      ">time.  We don't rush it in one day, Christianity is your whole life.  \n",
      ">It is not going to church once a week, or helping poor people once in \n",
      ">a while.  We box everything into time units.  Such as work at this \n",
      ">time, sports, Tv, social life.  God is above these boxes and should be \n",
      ">carried with us into all these boxes that we have created for \n",
      ">ourselves.  \t  \n",
      "\n",
      "Just like weight lifting or guitar playing, eh?  I don't know how you \n",
      "define the world \"total,\" but I would imagine a \"total sacrafice [sp]\n",
      "of everything for God's sake\" would involve more than a time commitment.\n",
      "\n",
      "You are correct about our tendency to \"box everything into time units.\"\n",
      "Would you explain HOW one should involove God in sports and (hehehe)\n",
      "television?\n",
      "-- \n",
      "---                      __  _______                              ---\n",
      "||| Kevin Marshall       \\ \\/ /_  _/  Computer Science Department |||\n",
      "||| Virginia Tech         \\  / / /     marshall@csugrad.cs.vt.edu |||\n",
      "--- Blacksburg, Virginia   \\/ /_/                  (703) 232-6529 ---\n",
      "\n"
     ]
    }
   ],
   "source": [
    "from sklearn.datasets import fetch_20newsgroups\n",
    "categories = ['alt.atheism', 'soc.religion.christian']\n",
    "train = fetch_20newsgroups(subset='train', categories=categories, shuffle=True, random_state=42)\n",
    "print(train.data[1])"
   ]
  },
  {
   "cell_type": "code",
   "execution_count": null,
   "metadata": {},
   "outputs": [],
   "source": [
    "from sklearn.feature_extraction.text import CountVectorizer\n",
    "count_vect = CountVectorizer\n"
   ]
  }
 ],
 "metadata": {
  "kernelspec": {
   "display_name": "Python 2",
   "language": "python",
   "name": "python2"
  },
  "language_info": {
   "codemirror_mode": {
    "name": "ipython",
    "version": 2
   },
   "file_extension": ".py",
   "mimetype": "text/x-python",
   "name": "python",
   "nbconvert_exporter": "python",
   "pygments_lexer": "ipython2",
   "version": "2.7.10"
  }
 },
 "nbformat": 4,
 "nbformat_minor": 1
}
