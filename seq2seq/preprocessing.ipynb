{
 "cells": [
  {
   "cell_type": "markdown",
   "metadata": {},
   "source": [
    "# read file"
   ]
  },
  {
   "cell_type": "markdown",
   "metadata": {},
   "source": [
    "## movie-lens"
   ]
  },
  {
   "cell_type": "code",
   "execution_count": 61,
   "metadata": {},
   "outputs": [],
   "source": [
    "DATA_DIR=\"data/ml-1m\"\n",
    "import pandas as pd\n",
    "import numpy as np\n",
    "import gzip"
   ]
  },
  {
   "cell_type": "code",
   "execution_count": 54,
   "metadata": {},
   "outputs": [
    {
     "name": "stderr",
     "output_type": "stream",
     "text": [
      "/Users/linh/PhD/code/.env3/lib/python3.5/site-packages/ipykernel_launcher.py:1: ParserWarning: Falling back to the 'python' engine because the 'c' engine does not support regex separators (separators > 1 char and different from '\\s+' are interpreted as regex); you can avoid this warning by specifying engine='python'.\n",
      "  \"\"\"Entry point for launching an IPython kernel.\n"
     ]
    },
    {
     "data": {
      "text/html": [
       "<div>\n",
       "<style scoped>\n",
       "    .dataframe tbody tr th:only-of-type {\n",
       "        vertical-align: middle;\n",
       "    }\n",
       "\n",
       "    .dataframe tbody tr th {\n",
       "        vertical-align: top;\n",
       "    }\n",
       "\n",
       "    .dataframe thead th {\n",
       "        text-align: right;\n",
       "    }\n",
       "</style>\n",
       "<table border=\"1\" class=\"dataframe\">\n",
       "  <thead>\n",
       "    <tr style=\"text-align: right;\">\n",
       "      <th></th>\n",
       "      <th>userID</th>\n",
       "      <th>itemID</th>\n",
       "      <th>ratings</th>\n",
       "      <th>timestamp</th>\n",
       "    </tr>\n",
       "  </thead>\n",
       "  <tbody>\n",
       "    <tr>\n",
       "      <th>0</th>\n",
       "      <td>1</td>\n",
       "      <td>1193</td>\n",
       "      <td>5</td>\n",
       "      <td>978300760</td>\n",
       "    </tr>\n",
       "    <tr>\n",
       "      <th>1</th>\n",
       "      <td>1</td>\n",
       "      <td>661</td>\n",
       "      <td>3</td>\n",
       "      <td>978302109</td>\n",
       "    </tr>\n",
       "    <tr>\n",
       "      <th>2</th>\n",
       "      <td>1</td>\n",
       "      <td>914</td>\n",
       "      <td>3</td>\n",
       "      <td>978301968</td>\n",
       "    </tr>\n",
       "    <tr>\n",
       "      <th>3</th>\n",
       "      <td>1</td>\n",
       "      <td>3408</td>\n",
       "      <td>4</td>\n",
       "      <td>978300275</td>\n",
       "    </tr>\n",
       "    <tr>\n",
       "      <th>4</th>\n",
       "      <td>1</td>\n",
       "      <td>2355</td>\n",
       "      <td>5</td>\n",
       "      <td>978824291</td>\n",
       "    </tr>\n",
       "  </tbody>\n",
       "</table>\n",
       "</div>"
      ],
      "text/plain": [
       "   userID  itemID  ratings  timestamp\n",
       "0       1    1193        5  978300760\n",
       "1       1     661        3  978302109\n",
       "2       1     914        3  978301968\n",
       "3       1    3408        4  978300275\n",
       "4       1    2355        5  978824291"
      ]
     },
     "execution_count": 54,
     "metadata": {},
     "output_type": "execute_result"
    }
   ],
   "source": [
    "data = pd.read_table(\"%s/ratings.dat\"%DATA_DIR, delimiter=\"::\", header=None)\n",
    "data.rename(index=str, columns={0:'userID', 1:'itemID', 2:'ratings', 3:'timestamp'}, inplace=True)\n",
    "data.head()"
   ]
  },
  {
   "cell_type": "code",
   "execution_count": 60,
   "metadata": {},
   "outputs": [
    {
     "data": {
      "text/plain": [
       "1    978302109\n",
       "Name: timestamp, dtype: int64"
      ]
     },
     "execution_count": 60,
     "metadata": {},
     "output_type": "execute_result"
    }
   ],
   "source": [
    "data[(data.userID == 1) & (data.itemID == 661)].timestamp"
   ]
  },
  {
   "cell_type": "code",
   "execution_count": 14,
   "metadata": {},
   "outputs": [
    {
     "name": "stderr",
     "output_type": "stream",
     "text": [
      "/Users/linh/PhD/code/.env3/lib/python3.5/site-packages/ipykernel_launcher.py:1: ParserWarning: Falling back to the 'python' engine because the 'c' engine does not support regex separators (separators > 1 char and different from '\\s+' are interpreted as regex); you can avoid this warning by specifying engine='python'.\n",
      "  \"\"\"Entry point for launching an IPython kernel.\n"
     ]
    },
    {
     "data": {
      "text/html": [
       "<div>\n",
       "<style scoped>\n",
       "    .dataframe tbody tr th:only-of-type {\n",
       "        vertical-align: middle;\n",
       "    }\n",
       "\n",
       "    .dataframe tbody tr th {\n",
       "        vertical-align: top;\n",
       "    }\n",
       "\n",
       "    .dataframe thead th {\n",
       "        text-align: right;\n",
       "    }\n",
       "</style>\n",
       "<table border=\"1\" class=\"dataframe\">\n",
       "  <thead>\n",
       "    <tr style=\"text-align: right;\">\n",
       "      <th></th>\n",
       "      <th>userID</th>\n",
       "      <th>itemID</th>\n",
       "      <th>ratings</th>\n",
       "    </tr>\n",
       "  </thead>\n",
       "  <tbody>\n",
       "    <tr>\n",
       "      <th>0</th>\n",
       "      <td>1</td>\n",
       "      <td>Toy Story (1995)</td>\n",
       "      <td>Animation|Children's|Comedy</td>\n",
       "    </tr>\n",
       "    <tr>\n",
       "      <th>1</th>\n",
       "      <td>2</td>\n",
       "      <td>Jumanji (1995)</td>\n",
       "      <td>Adventure|Children's|Fantasy</td>\n",
       "    </tr>\n",
       "    <tr>\n",
       "      <th>2</th>\n",
       "      <td>3</td>\n",
       "      <td>Grumpier Old Men (1995)</td>\n",
       "      <td>Comedy|Romance</td>\n",
       "    </tr>\n",
       "    <tr>\n",
       "      <th>3</th>\n",
       "      <td>4</td>\n",
       "      <td>Waiting to Exhale (1995)</td>\n",
       "      <td>Comedy|Drama</td>\n",
       "    </tr>\n",
       "    <tr>\n",
       "      <th>4</th>\n",
       "      <td>5</td>\n",
       "      <td>Father of the Bride Part II (1995)</td>\n",
       "      <td>Comedy</td>\n",
       "    </tr>\n",
       "  </tbody>\n",
       "</table>\n",
       "</div>"
      ],
      "text/plain": [
       "   userID                              itemID                       ratings\n",
       "0       1                    Toy Story (1995)   Animation|Children's|Comedy\n",
       "1       2                      Jumanji (1995)  Adventure|Children's|Fantasy\n",
       "2       3             Grumpier Old Men (1995)                Comedy|Romance\n",
       "3       4            Waiting to Exhale (1995)                  Comedy|Drama\n",
       "4       5  Father of the Bride Part II (1995)                        Comedy"
      ]
     },
     "execution_count": 14,
     "metadata": {},
     "output_type": "execute_result"
    }
   ],
   "source": [
    "movies_info = pd.read_table(\"data/ml-1m/movies.dat\", delimiter=\"::\", header=None)\n",
    "movies_info.rename(index=str, columns={0:'userID', 1:'itemID', 2:'ratings', 3:'timestamp'}, inplace=True)\n",
    "movies_info.head()"
   ]
  },
  {
   "cell_type": "markdown",
   "metadata": {},
   "source": [
    "## Amazon"
   ]
  },
  {
   "cell_type": "code",
   "execution_count": 62,
   "metadata": {},
   "outputs": [],
   "source": [
    "def parse(path):\n",
    "    g = gzip.open(path, \"rb\")\n",
    "    for l in g:\n",
    "        yield eval(l)\n",
    "        \n",
    "def getDF(path):\n",
    "    i = 0\n",
    "    df = {}\n",
    "    for d in parse(path):\n",
    "        df[i] = d\n",
    "        i += 1\n",
    "    return pd.DataFrame.from_dict(df, orient='index')"
   ]
  },
  {
   "cell_type": "code",
   "execution_count": 63,
   "metadata": {},
   "outputs": [
    {
     "data": {
      "text/html": [
       "<div>\n",
       "<style scoped>\n",
       "    .dataframe tbody tr th:only-of-type {\n",
       "        vertical-align: middle;\n",
       "    }\n",
       "\n",
       "    .dataframe tbody tr th {\n",
       "        vertical-align: top;\n",
       "    }\n",
       "\n",
       "    .dataframe thead th {\n",
       "        text-align: right;\n",
       "    }\n",
       "</style>\n",
       "<table border=\"1\" class=\"dataframe\">\n",
       "  <thead>\n",
       "    <tr style=\"text-align: right;\">\n",
       "      <th></th>\n",
       "      <th>summary</th>\n",
       "      <th>unixReviewTime</th>\n",
       "      <th>reviewText</th>\n",
       "      <th>reviewerName</th>\n",
       "      <th>reviewTime</th>\n",
       "      <th>reviewerID</th>\n",
       "      <th>overall</th>\n",
       "      <th>helpful</th>\n",
       "      <th>asin</th>\n",
       "    </tr>\n",
       "  </thead>\n",
       "  <tbody>\n",
       "    <tr>\n",
       "      <th>0</th>\n",
       "      <td>Great Hoses</td>\n",
       "      <td>1308614400</td>\n",
       "      <td>Good USA company that stands behind their prod...</td>\n",
       "      <td>Carter H \"1amazonreviewer@gmail . com\"</td>\n",
       "      <td>06 21, 2011</td>\n",
       "      <td>A1JZFGZEZVWQPY</td>\n",
       "      <td>4.0</td>\n",
       "      <td>[4, 4]</td>\n",
       "      <td>B00002N674</td>\n",
       "    </tr>\n",
       "    <tr>\n",
       "      <th>1</th>\n",
       "      <td>Gilmour 10-58050 8-ply Flexogen Hose 5/8-Inch ...</td>\n",
       "      <td>1402272000</td>\n",
       "      <td>This is a high quality 8 ply hose. I have had ...</td>\n",
       "      <td>Darryl Bennett \"Fuzzy342\"</td>\n",
       "      <td>06 9, 2014</td>\n",
       "      <td>A32JCI4AK2JTTG</td>\n",
       "      <td>5.0</td>\n",
       "      <td>[0, 0]</td>\n",
       "      <td>B00002N674</td>\n",
       "    </tr>\n",
       "    <tr>\n",
       "      <th>2</th>\n",
       "      <td>Very satisfied!</td>\n",
       "      <td>1336176000</td>\n",
       "      <td>It's probably one of the best hoses I've ever ...</td>\n",
       "      <td>H B</td>\n",
       "      <td>05 5, 2012</td>\n",
       "      <td>A3N0P5AAMP6XD2</td>\n",
       "      <td>4.0</td>\n",
       "      <td>[2, 3]</td>\n",
       "      <td>B00002N674</td>\n",
       "    </tr>\n",
       "    <tr>\n",
       "      <th>3</th>\n",
       "      <td>Very high quality</td>\n",
       "      <td>1373846400</td>\n",
       "      <td>I probably should have bought something a bit ...</td>\n",
       "      <td>Jason</td>\n",
       "      <td>07 15, 2013</td>\n",
       "      <td>A2QK7UNJ857YG</td>\n",
       "      <td>5.0</td>\n",
       "      <td>[0, 0]</td>\n",
       "      <td>B00002N674</td>\n",
       "    </tr>\n",
       "    <tr>\n",
       "      <th>4</th>\n",
       "      <td>Good Hoses</td>\n",
       "      <td>1375660800</td>\n",
       "      <td>I bought three of these 5/8-inch Flexogen hose...</td>\n",
       "      <td>jimmy</td>\n",
       "      <td>08 5, 2013</td>\n",
       "      <td>AS0CYBAN6EM06</td>\n",
       "      <td>5.0</td>\n",
       "      <td>[1, 1]</td>\n",
       "      <td>B00002N674</td>\n",
       "    </tr>\n",
       "  </tbody>\n",
       "</table>\n",
       "</div>"
      ],
      "text/plain": [
       "                                             summary  unixReviewTime  \\\n",
       "0                                        Great Hoses      1308614400   \n",
       "1  Gilmour 10-58050 8-ply Flexogen Hose 5/8-Inch ...      1402272000   \n",
       "2                                    Very satisfied!      1336176000   \n",
       "3                                  Very high quality      1373846400   \n",
       "4                                         Good Hoses      1375660800   \n",
       "\n",
       "                                          reviewText  \\\n",
       "0  Good USA company that stands behind their prod...   \n",
       "1  This is a high quality 8 ply hose. I have had ...   \n",
       "2  It's probably one of the best hoses I've ever ...   \n",
       "3  I probably should have bought something a bit ...   \n",
       "4  I bought three of these 5/8-inch Flexogen hose...   \n",
       "\n",
       "                             reviewerName   reviewTime      reviewerID  \\\n",
       "0  Carter H \"1amazonreviewer@gmail . com\"  06 21, 2011  A1JZFGZEZVWQPY   \n",
       "1               Darryl Bennett \"Fuzzy342\"   06 9, 2014  A32JCI4AK2JTTG   \n",
       "2                                     H B   05 5, 2012  A3N0P5AAMP6XD2   \n",
       "3                                   Jason  07 15, 2013   A2QK7UNJ857YG   \n",
       "4                                   jimmy   08 5, 2013   AS0CYBAN6EM06   \n",
       "\n",
       "   overall helpful        asin  \n",
       "0      4.0  [4, 4]  B00002N674  \n",
       "1      5.0  [0, 0]  B00002N674  \n",
       "2      4.0  [2, 3]  B00002N674  \n",
       "3      5.0  [0, 0]  B00002N674  \n",
       "4      5.0  [1, 1]  B00002N674  "
      ]
     },
     "execution_count": 63,
     "metadata": {},
     "output_type": "execute_result"
    }
   ],
   "source": [
    "data = getDF(\"data/Garden/reviews.json.gz\")\n",
    "data.head()"
   ]
  },
  {
   "cell_type": "markdown",
   "metadata": {},
   "source": [
    "# Matching new userID, itemID"
   ]
  },
  {
   "cell_type": "code",
   "execution_count": 3,
   "metadata": {},
   "outputs": [
    {
     "name": "stdout",
     "output_type": "stream",
     "text": [
      "# num of user: 6040 \n",
      "# num of item: 3706\n"
     ]
    }
   ],
   "source": [
    "item = sorted(data.itemID.unique())\n",
    "user = sorted(data.userID.unique())\n",
    "print(\"# num of user: %d \\n# num of item: %d\"%(len(user), len(item)))"
   ]
  },
  {
   "cell_type": "code",
   "execution_count": 4,
   "metadata": {},
   "outputs": [],
   "source": [
    "# Group data following user\n",
    "\n",
    "n_user = len(user)\n",
    "n_item = len(item)\n",
    "\n",
    "previous_user_id = 0\n",
    "ratings = []\n",
    "for _, r in data.iterrows():\n",
    "    if r.userID == previous_user_id:\n",
    "        iid = item.index(r.itemID)\n",
    "        ratings[-1].append([iid, r.ratings, r.timestamp])\n",
    "    elif r.userID == previous_user_id + 1:\n",
    "        iid = item.index(r.itemID)\n",
    "        ratings.append([[iid, r.ratings, r.timestamp]])\n",
    "        previous_user_id = r.userID\n",
    "    else:\n",
    "        print(r, previous_user_id)\n",
    "        break"
   ]
  },
  {
   "cell_type": "code",
   "execution_count": 5,
   "metadata": {},
   "outputs": [
    {
     "name": "stdout",
     "output_type": "stream",
     "text": [
      "Max item user rated: 2314\n",
      "Min item user rated: 20\n",
      "Mean item user rated: 165\n"
     ]
    }
   ],
   "source": [
    "# Summary information\n",
    "\n",
    "print(\"Max item user rated: %d\"%max([len(i) for i in ratings]))\n",
    "print(\"Min item user rated: %d\"%min([len(i) for i in ratings]))\n",
    "print(\"Mean item user rated: %d\"%np.mean([len(i) for i in ratings]))\n"
   ]
  },
  {
   "cell_type": "code",
   "execution_count": 7,
   "metadata": {},
   "outputs": [],
   "source": [
    "f = open(\"%s/ratings.txt\"%DATA_DIR, \"w\")\n",
    "for uid, u in enumerate(ratings):\n",
    "    arr = np.array(u)\n",
    "    arr = arr[np.argsort(arr[:, 2])]\n",
    "    for i in arr:\n",
    "        r = [str(j) for j in i]\n",
    "        f.write(\"%d %s\\n\"%(uid, \" \".join(r)))\n",
    "f.close()"
   ]
  },
  {
   "cell_type": "code",
   "execution_count": 26,
   "metadata": {},
   "outputs": [],
   "source": [
    "# write new id of items into file\n",
    "tmp = [str(i) for i in item]\n",
    "f = open(\"%s/item_id.txt\"%DATA_DIR, \"w\")\n",
    "f.write(\"\\n\".join(tmp))\n",
    "f.close()"
   ]
  },
  {
   "cell_type": "markdown",
   "metadata": {},
   "source": [
    "# Prepare Train, Test "
   ]
  },
  {
   "cell_type": "code",
   "execution_count": 33,
   "metadata": {},
   "outputs": [],
   "source": [
    "shuffle_id = np.random.permutation(n_user)\n",
    "train_id = shuffle_id[604:]\n",
    "test_id = shuffle_id[:604]\n",
    "\n",
    "ftrain = open(\"%s/implicit/train.txt\"%DATA_DIR, \"w\")\n",
    "for idx in train_id:\n",
    "    user = np.array(ratings[idx]).reshape((len(ratings[idx]), 3))\n",
    "    user = user[np.argsort(user[:, 2])]\n",
    "    item = list(user[:, 0])\n",
    "    item = [str(i) for i in item]\n",
    "    ftrain.write(\"%d %s\\n\"%(idx, \" \".join(item)))\n",
    "ftrain.close()\n",
    "\n",
    "ftest = open(\"%s/implicit/test.txt\"%DATA_DIR, \"w\")\n",
    "for idx in test_id:\n",
    "    user = np.array(ratings[idx]).reshape((len(ratings[idx]), 3))\n",
    "    user = user[np.argsort(user[:, 2])]\n",
    "    item = list(user[:, 0])\n",
    "    item = [str(i) for i in item]\n",
    "    ftest.write(\"%d %s\\n\"%(idx, \" \".join(item)))\n",
    "ftest.close()\n",
    "    \n",
    "    \n",
    "                                          "
   ]
  },
  {
   "cell_type": "markdown",
   "metadata": {},
   "source": [
    "## Create item description for cf-vae"
   ]
  },
  {
   "cell_type": "code",
   "execution_count": 9,
   "metadata": {},
   "outputs": [
    {
     "data": {
      "text/plain": [
       "['A little boy named Andy loves to be in his room, playing with his toys, especially his doll named \"Woody\". But, what do the toys do when Andy is not with them, they come to life. Woody believes that he has life (as a toy) good. However, he must worry about Andy\\'s family moving, and what Woody does not know is about Andy\\'s birthday party. Woody does not realize that Andy\\'s mother gave him an action figure known as Buzz Lightyear, who does not believe that he is a toy, and quickly becomes Andy\\'s new favorite toy. Woody, who is now consumed with jealousy, tries to get rid of Buzz. Then, both Woody and Buzz are now lost. They must find a way to get back to Andy before he moves without them, but they will have to pass through a ruthless toy killer, Sid Phillips.',\n",
       " 'After being trapped in a jungle board game for 26 years, a Man-Child wins his release from the game. But, no sooner has he arrived that he is forced to play again, and this time sets the creatures of the jungle loose on the city. Now it is up to him to stop them.']"
      ]
     },
     "execution_count": 9,
     "metadata": {},
     "output_type": "execute_result"
    }
   ],
   "source": [
    "# read movie description\n",
    "des = list(open(\"data/ml-1m/movie_description.txt\"))\n",
    "des = [d.strip() for d in des]\n",
    "\n",
    "# item id\n",
    "item = sorted(data.itemID.unique())\n",
    "movie_list = list(movies_info[0])\n",
    "\n",
    "# matching\n",
    "text = []\n",
    "for i in item:\n",
    "    idx = movie_list.index(i)\n",
    "    text.append(des[idx*2+1])\n",
    "text[:2]"
   ]
  },
  {
   "cell_type": "code",
   "execution_count": 12,
   "metadata": {},
   "outputs": [],
   "source": [
    "# write file\n",
    "# f = open(\"data/ml-1m/description_fix.txt\", \"w\")\n",
    "# f.write(\"\\n\".join(text))\n",
    "# f.close()\n",
    "\n",
    "# tf-idf\n",
    "from sklearn.feature_extraction.text import TfidfVectorizer\n",
    "from scipy.sparse import save_npz\n",
    "vectorizer = TfidfVectorizer()\n",
    "X = vectorizer.fit_transform(text)\n",
    "save_npz(\"data/ml-1m/item.npz\", X)"
   ]
  },
  {
   "cell_type": "markdown",
   "metadata": {},
   "source": [
    "# Domain-to-domain"
   ]
  },
  {
   "cell_type": "code",
   "execution_count": 14,
   "metadata": {},
   "outputs": [
    {
     "name": "stderr",
     "output_type": "stream",
     "text": [
      "/Users/linh/PhD/code/.env3/lib/python3.5/site-packages/ipykernel_launcher.py:1: ParserWarning: Falling back to the 'python' engine because the 'c' engine does not support regex separators (separators > 1 char and different from '\\s+' are interpreted as regex); you can avoid this warning by specifying engine='python'.\n",
      "  \"\"\"Entry point for launching an IPython kernel.\n"
     ]
    },
    {
     "data": {
      "text/html": [
       "<div>\n",
       "<style scoped>\n",
       "    .dataframe tbody tr th:only-of-type {\n",
       "        vertical-align: middle;\n",
       "    }\n",
       "\n",
       "    .dataframe tbody tr th {\n",
       "        vertical-align: top;\n",
       "    }\n",
       "\n",
       "    .dataframe thead th {\n",
       "        text-align: right;\n",
       "    }\n",
       "</style>\n",
       "<table border=\"1\" class=\"dataframe\">\n",
       "  <thead>\n",
       "    <tr style=\"text-align: right;\">\n",
       "      <th></th>\n",
       "      <th>moviesID</th>\n",
       "      <th>title</th>\n",
       "      <th>genres</th>\n",
       "    </tr>\n",
       "  </thead>\n",
       "  <tbody>\n",
       "    <tr>\n",
       "      <th>0</th>\n",
       "      <td>1</td>\n",
       "      <td>Toy Story (1995)</td>\n",
       "      <td>Animation|Children's|Comedy</td>\n",
       "    </tr>\n",
       "    <tr>\n",
       "      <th>1</th>\n",
       "      <td>2</td>\n",
       "      <td>Jumanji (1995)</td>\n",
       "      <td>Adventure|Children's|Fantasy</td>\n",
       "    </tr>\n",
       "    <tr>\n",
       "      <th>2</th>\n",
       "      <td>3</td>\n",
       "      <td>Grumpier Old Men (1995)</td>\n",
       "      <td>Comedy|Romance</td>\n",
       "    </tr>\n",
       "    <tr>\n",
       "      <th>3</th>\n",
       "      <td>4</td>\n",
       "      <td>Waiting to Exhale (1995)</td>\n",
       "      <td>Comedy|Drama</td>\n",
       "    </tr>\n",
       "    <tr>\n",
       "      <th>4</th>\n",
       "      <td>5</td>\n",
       "      <td>Father of the Bride Part II (1995)</td>\n",
       "      <td>Comedy</td>\n",
       "    </tr>\n",
       "  </tbody>\n",
       "</table>\n",
       "</div>"
      ],
      "text/plain": [
       "   moviesID                               title                        genres\n",
       "0         1                    Toy Story (1995)   Animation|Children's|Comedy\n",
       "1         2                      Jumanji (1995)  Adventure|Children's|Fantasy\n",
       "2         3             Grumpier Old Men (1995)                Comedy|Romance\n",
       "3         4            Waiting to Exhale (1995)                  Comedy|Drama\n",
       "4         5  Father of the Bride Part II (1995)                        Comedy"
      ]
     },
     "execution_count": 14,
     "metadata": {},
     "output_type": "execute_result"
    }
   ],
   "source": [
    "movies = pd.read_table(\"%s/movies.dat\"%DATA_DIR, delimiter=\"::\", header=None)\n",
    "movies.rename(index=str, columns={0:'moviesID', 1:'title', 2:'genres'}, inplace=True)\n",
    "movies.head()"
   ]
  },
  {
   "cell_type": "code",
   "execution_count": 22,
   "metadata": {},
   "outputs": [],
   "source": [
    "movie_ids = list(open(\"../data/ml-1m/item_id.txt\"))\n",
    "movie_ids = [int(s.strip()) for s in movie_ids]\n",
    "movies = movies[movies.moviesID.isin(movie_ids)]"
   ]
  },
  {
   "cell_type": "code",
   "execution_count": 25,
   "metadata": {},
   "outputs": [
    {
     "data": {
      "text/plain": [
       "[[3943, 'Bamboozled (2000)', 'Comedy'],\n",
       " [3944, 'Bootmen (2000)', 'Comedy|Drama'],\n",
       " [3945, 'Digimon: The Movie (2000)', \"Adventure|Animation|Children's\"],\n",
       " [3946, 'Get Carter (2000)', 'Action|Drama|Thriller'],\n",
       " [3947, 'Get Carter (1971)', 'Thriller'],\n",
       " [3948, 'Meet the Parents (2000)', 'Comedy'],\n",
       " [3949, 'Requiem for a Dream (2000)', 'Drama'],\n",
       " [3950, 'Tigerland (2000)', 'Drama'],\n",
       " [3951, 'Two Family House (2000)', 'Drama'],\n",
       " [3952, 'Contender, The (2000)', 'Drama|Thriller']]"
      ]
     },
     "execution_count": 25,
     "metadata": {},
     "output_type": "execute_result"
    }
   ],
   "source": [
    "movies = movies.values.tolist()\n",
    "movies[-10:]"
   ]
  },
  {
   "cell_type": "code",
   "execution_count": 28,
   "metadata": {},
   "outputs": [
    {
     "name": "stdout",
     "output_type": "stream",
     "text": [
      "[3186, 'Girl, Interrupted (1999)', 'Drama'] [     2969         4 978300019]\n",
      "[1721, 'Titanic (1997)', 'Drama|Romance'] [     1574         4 978300055]\n",
      "[1022, 'Cinderella (1950)', \"Animation|Children's|Musical\"] [      957         5 978300055]\n",
      "[1270, 'Back to the Future (1985)', 'Comedy|Sci-Fi'] [     1178         5 978300055]\n",
      "[2340, 'Meet Joe Black (1998)', 'Romance'] [     2147         3 978300103]\n",
      "[1836, 'Last Days of Disco, The (1998)', 'Drama'] [     1658         5 978300172]\n",
      "[3408, 'Erin Brockovich (2000)', 'Drama'] [     3177         4 978300275]\n",
      "[1207, 'To Kill a Mockingbird (1962)', 'Drama'] [     1117         4 978300719]\n",
      "[2804, 'Christmas Story, A (1983)', 'Comedy|Drama'] [     2599         5 978300719]\n",
      "[720, 'Wallace & Gromit: The Best of Aardman Animation (1996)', 'Animation'] [      689         3 978300760]\n",
      "[1193, \"One Flew Over the Cuckoo's Nest (1975)\", 'Drama'] [     1104         5 978300760]\n",
      "[260, 'Star Wars: Episode IV - A New Hope (1977)', 'Action|Adventure|Fantasy|Sci-Fi'] [      253         4 978300760]\n",
      "[919, 'Wizard of Oz, The (1939)', \"Adventure|Children's|Drama|Musical\"] [      858         4 978301368]\n",
      "[608, 'Fargo (1996)', 'Crime|Drama|Thriller'] [      593         4 978301398]\n",
      "[2692, 'Run Lola Run (Lola rennt) (1998)', 'Action|Crime|Romance'] [     2488         4 978301570]\n",
      "[1961, 'Rain Man (1988)', 'Drama'] [     1781         5 978301590]\n",
      "[2028, 'Saving Private Ryan (1998)', 'Action|Drama|War'] [     1848         5 978301619]\n",
      "[3105, 'Awakenings (1990)', 'Drama'] [     2889         5 978301713]\n",
      "[938, 'Gigi (1958)', 'Musical'] [      877         4 978301752]\n",
      "[1962, 'Driving Miss Daisy (1989)', 'Drama'] [     1782         4 978301753]\n",
      "[1035, 'Sound of Music, The (1965)', 'Musical'] [      970         5 978301753]\n",
      "[150, 'Apollo 13 (1995)', 'Drama'] [      144         5 978301777]\n",
      "[2018, 'Bambi (1942)', \"Animation|Children's\"] [     1838         4 978301777]\n",
      "[1028, 'Mary Poppins (1964)', \"Children's|Comedy|Musical\"] [      963         5 978301777]\n",
      "[1097, 'E.T. the Extra-Terrestrial (1982)', \"Children's|Drama|Fantasy|Sci-Fi\"] [     1025         4 978301953]\n",
      "[914, 'My Fair Lady (1964)', 'Musical|Romance'] [      853         3 978301968]\n",
      "[2797, 'Big (1988)', 'Comedy|Fantasy'] [     2592         4 978302039]\n",
      "[1287, 'Ben-Hur (1959)', 'Action|Adventure|Drama'] [     1195         5 978302039]\n",
      "[2762, 'Sixth Sense, The (1999)', 'Thriller'] [     2557         4 978302091]\n",
      "[1246, 'Dead Poets Society (1989)', 'Drama'] [     1154         4 978302091]\n",
      "[661, 'James and the Giant Peach (1996)', \"Animation|Children's|Musical\"] [      639         3 978302109]\n",
      "[2918, \"Ferris Bueller's Day Off (1986)\", 'Comedy'] [     2710         4 978302124]\n",
      "[531, 'Secret Garden, The (1993)', \"Children's|Drama\"] [      517         4 978302149]\n",
      "[3114, 'Toy Story 2 (1999)', \"Animation|Children's|Comedy\"] [     2898         4 978302174]\n",
      "[2791, 'Airplane! (1980)', 'Comedy'] [     2586         4 978302188]\n",
      "[1029, 'Dumbo (1941)', \"Animation|Children's|Musical\"] [      964         5 978302205]\n",
      "[2321, 'Pleasantville (1998)', 'Comedy'] [     2128         3 978302205]\n",
      "[1197, 'Princess Bride, The (1987)', 'Action|Adventure|Comedy|Romance'] [     1107         3 978302268]\n",
      "[594, 'Snow White and the Seven Dwarfs (1937)', \"Animation|Children's|Musical\"] [      580         4 978302268]\n",
      "[2398, 'Miracle on 34th Street (1947)', 'Drama'] [     2205         4 978302281]\n",
      "[1545, 'Ponette (1996)', 'Drama'] [     1421         4 978824139]\n",
      "[527, \"Schindler's List (1993)\", 'Drama|War'] [      513         5 978824195]\n",
      "[1, 'Toy Story (1995)', \"Animation|Children's|Comedy\"] [        0         5 978824268]\n",
      "[588, 'Aladdin (1992)', \"Animation|Children's|Comedy|Musical\"] [      574         4 978824268]\n",
      "[2687, 'Tarzan (1999)', \"Animation|Children's\"] [     2483         3 978824268]\n",
      "[745, 'Close Shave, A (1995)', 'Animation|Comedy|Thriller'] [      708         3 978824268]\n",
      "[595, 'Beauty and the Beast (1991)', \"Animation|Children's|Musical\"] [      581         5 978824268]\n",
      "[2294, 'Antz (1998)', \"Animation|Children's\"] [     2102         4 978824291]\n",
      "[783, 'Hunchback of Notre Dame, The (1996)', \"Animation|Children's|Musical\"] [      740         4 978824291]\n",
      "[2355, \"Bug's Life, A (1998)\", \"Animation|Children's|Comedy\"] [     2162         5 978824291]\n",
      "[1907, 'Mulan (1998)', \"Animation|Children's\"] [     1727         4 978824330]\n",
      "[1566, 'Hercules (1997)', \"Adventure|Animation|Children's|Comedy|Musical\"] [     1439         4 978824330]\n",
      "[48, 'Pocahontas (1995)', \"Animation|Children's|Musical|Romance\"] [       47         5 978824351]\n"
     ]
    }
   ],
   "source": [
    "u = ratings[0]\n",
    "arr = np.array(u)\n",
    "arr = arr[np.argsort(arr[:, 2])]\n",
    "for i in range(len(arr)):\n",
    "    print(movies[arr[i, 0]], arr[i])"
   ]
  },
  {
   "cell_type": "markdown",
   "metadata": {},
   "source": [
    "# matching with categories"
   ]
  },
  {
   "cell_type": "code",
   "execution_count": 16,
   "metadata": {},
   "outputs": [],
   "source": [
    "movies = movies_info.values.tolist()\n",
    "categories = [\"Action\", \"Adventure\", \"Animation\", \"Children's\", \"Comedy\", \"Crime\", \"Documentary\", \"Drama\", \"Fantasy\", \"Film-Noir\", \n",
    "              \"Horror\", \"Musical\", \"Mystery\", \"Romance\", \"Sci-Fi\", \"Thriller\", \"War\", \"Western\"]\n",
    "item = sorted(data.itemID.unique())\n",
    "f = open(\"data/ml-1m/categories.txt\", \"w\")\n",
    "for m in movies:\n",
    "    if m[0] in item:\n",
    "        cat = m[2].split(\"|\")\n",
    "        arr = [0]*len(categories)\n",
    "        for i in cat:\n",
    "            arr[categories.index(i)] = 1\n",
    "        f.write(\",\".join([str(a) for a in arr]))\n",
    "        f.write(\"\\n\")\n",
    "f.close()\n",
    "\n"
   ]
  },
  {
   "cell_type": "code",
   "execution_count": 17,
   "metadata": {},
   "outputs": [
    {
     "data": {
      "text/plain": [
       "18"
      ]
     },
     "execution_count": 17,
     "metadata": {},
     "output_type": "execute_result"
    }
   ],
   "source": [
    "len(categories)"
   ]
  },
  {
   "cell_type": "code",
   "execution_count": 23,
   "metadata": {},
   "outputs": [
    {
     "ename": "ValueError",
     "evalue": "Shape must be rank 2 but is rank 3 for 'Tile_1' (op: 'Tile') with input shapes: [2,3], [3].",
     "output_type": "error",
     "traceback": [
      "\u001b[0;31m--------------------------------------------------------\u001b[0m",
      "\u001b[0;31mInvalidArgumentError\u001b[0m   Traceback (most recent call last)",
      "\u001b[0;32m~/PhD/code/.env3/lib/python3.5/site-packages/tensorflow/python/framework/ops.py\u001b[0m in \u001b[0;36m_create_c_op\u001b[0;34m(graph, node_def, inputs, control_inputs)\u001b[0m\n\u001b[1;32m   1627\u001b[0m   \u001b[0;32mtry\u001b[0m\u001b[0;34m:\u001b[0m\u001b[0;34m\u001b[0m\u001b[0m\n\u001b[0;32m-> 1628\u001b[0;31m     \u001b[0mc_op\u001b[0m \u001b[0;34m=\u001b[0m \u001b[0mc_api\u001b[0m\u001b[0;34m.\u001b[0m\u001b[0mTF_FinishOperation\u001b[0m\u001b[0;34m(\u001b[0m\u001b[0mop_desc\u001b[0m\u001b[0;34m)\u001b[0m\u001b[0;34m\u001b[0m\u001b[0m\n\u001b[0m\u001b[1;32m   1629\u001b[0m   \u001b[0;32mexcept\u001b[0m \u001b[0merrors\u001b[0m\u001b[0;34m.\u001b[0m\u001b[0mInvalidArgumentError\u001b[0m \u001b[0;32mas\u001b[0m \u001b[0me\u001b[0m\u001b[0;34m:\u001b[0m\u001b[0;34m\u001b[0m\u001b[0m\n",
      "\u001b[0;31mInvalidArgumentError\u001b[0m: Shape must be rank 2 but is rank 3 for 'Tile_1' (op: 'Tile') with input shapes: [2,3], [3].",
      "\nDuring handling of the above exception, another exception occurred:\n",
      "\u001b[0;31mValueError\u001b[0m             Traceback (most recent call last)",
      "\u001b[0;32m<ipython-input-23-e450ce0d6fc5>\u001b[0m in \u001b[0;36m<module>\u001b[0;34m\u001b[0m\n\u001b[1;32m      2\u001b[0m \u001b[0mbatch_size\u001b[0m\u001b[0;34m,\u001b[0m \u001b[0mn\u001b[0m\u001b[0;34m,\u001b[0m \u001b[0mm\u001b[0m\u001b[0;34m,\u001b[0m \u001b[0mk\u001b[0m \u001b[0;34m=\u001b[0m \u001b[0;36m10\u001b[0m\u001b[0;34m,\u001b[0m \u001b[0;36m3\u001b[0m\u001b[0;34m,\u001b[0m \u001b[0;36m5\u001b[0m\u001b[0;34m,\u001b[0m \u001b[0;36m2\u001b[0m\u001b[0;34m\u001b[0m\u001b[0m\n\u001b[1;32m      3\u001b[0m \u001b[0mA\u001b[0m \u001b[0;34m=\u001b[0m \u001b[0mtf\u001b[0m\u001b[0;34m.\u001b[0m\u001b[0mVariable\u001b[0m\u001b[0;34m(\u001b[0m\u001b[0mtf\u001b[0m\u001b[0;34m.\u001b[0m\u001b[0mrandom_normal\u001b[0m\u001b[0;34m(\u001b[0m\u001b[0mshape\u001b[0m\u001b[0;34m=\u001b[0m\u001b[0;34m(\u001b[0m\u001b[0mk\u001b[0m\u001b[0;34m,\u001b[0m \u001b[0mn\u001b[0m\u001b[0;34m)\u001b[0m\u001b[0;34m)\u001b[0m\u001b[0;34m)\u001b[0m\u001b[0;34m\u001b[0m\u001b[0m\n\u001b[0;32m----> 4\u001b[0;31m \u001b[0mD\u001b[0m \u001b[0;34m=\u001b[0m \u001b[0mtf\u001b[0m\u001b[0;34m.\u001b[0m\u001b[0mtile\u001b[0m\u001b[0;34m(\u001b[0m\u001b[0mA\u001b[0m\u001b[0;34m,\u001b[0m \u001b[0;34m[\u001b[0m\u001b[0;36m3\u001b[0m\u001b[0;34m,\u001b[0m \u001b[0mk\u001b[0m\u001b[0;34m,\u001b[0m \u001b[0mn\u001b[0m\u001b[0;34m]\u001b[0m\u001b[0;34m)\u001b[0m\u001b[0;34m\u001b[0m\u001b[0m\n\u001b[0m\u001b[1;32m      5\u001b[0m \u001b[0mB\u001b[0m \u001b[0;34m=\u001b[0m \u001b[0mtf\u001b[0m\u001b[0;34m.\u001b[0m\u001b[0mVariable\u001b[0m\u001b[0;34m(\u001b[0m\u001b[0mtf\u001b[0m\u001b[0;34m.\u001b[0m\u001b[0mrandom_normal\u001b[0m\u001b[0;34m(\u001b[0m\u001b[0mshape\u001b[0m\u001b[0;34m=\u001b[0m\u001b[0;34m(\u001b[0m\u001b[0mbatch_size\u001b[0m\u001b[0;34m,\u001b[0m \u001b[0mm\u001b[0m\u001b[0;34m,\u001b[0m \u001b[0mk\u001b[0m\u001b[0;34m)\u001b[0m\u001b[0;34m)\u001b[0m\u001b[0;34m)\u001b[0m\u001b[0;34m\u001b[0m\u001b[0m\n\u001b[1;32m      6\u001b[0m \u001b[0mC\u001b[0m \u001b[0;34m=\u001b[0m \u001b[0mtf\u001b[0m\u001b[0;34m.\u001b[0m\u001b[0mmatmul\u001b[0m\u001b[0;34m(\u001b[0m\u001b[0mA\u001b[0m\u001b[0;34m,\u001b[0m \u001b[0mB\u001b[0m\u001b[0;34m)\u001b[0m\u001b[0;34m\u001b[0m\u001b[0m\n",
      "\u001b[0;32m~/PhD/code/.env3/lib/python3.5/site-packages/tensorflow/python/ops/gen_array_ops.py\u001b[0m in \u001b[0;36mtile\u001b[0;34m(input, multiples, name)\u001b[0m\n\u001b[1;32m   8803\u001b[0m   \u001b[0;32mif\u001b[0m \u001b[0m_ctx\u001b[0m \u001b[0;32mis\u001b[0m \u001b[0;32mNone\u001b[0m \u001b[0;32mor\u001b[0m \u001b[0;32mnot\u001b[0m \u001b[0m_ctx\u001b[0m\u001b[0;34m.\u001b[0m\u001b[0m_eager_context\u001b[0m\u001b[0;34m.\u001b[0m\u001b[0mis_eager\u001b[0m\u001b[0;34m:\u001b[0m\u001b[0;34m\u001b[0m\u001b[0m\n\u001b[1;32m   8804\u001b[0m     _, _, _op = _op_def_lib._apply_op_helper(\n\u001b[0;32m-> 8805\u001b[0;31m         \"Tile\", input=input, multiples=multiples, name=name)\n\u001b[0m\u001b[1;32m   8806\u001b[0m     \u001b[0m_result\u001b[0m \u001b[0;34m=\u001b[0m \u001b[0m_op\u001b[0m\u001b[0;34m.\u001b[0m\u001b[0moutputs\u001b[0m\u001b[0;34m[\u001b[0m\u001b[0;34m:\u001b[0m\u001b[0;34m]\u001b[0m\u001b[0;34m\u001b[0m\u001b[0m\n\u001b[1;32m   8807\u001b[0m     \u001b[0m_inputs_flat\u001b[0m \u001b[0;34m=\u001b[0m \u001b[0m_op\u001b[0m\u001b[0;34m.\u001b[0m\u001b[0minputs\u001b[0m\u001b[0;34m\u001b[0m\u001b[0m\n",
      "\u001b[0;32m~/PhD/code/.env3/lib/python3.5/site-packages/tensorflow/python/framework/op_def_library.py\u001b[0m in \u001b[0;36m_apply_op_helper\u001b[0;34m(self, op_type_name, name, **keywords)\u001b[0m\n\u001b[1;32m    785\u001b[0m         op = g.create_op(op_type_name, inputs, output_types, name=scope,\n\u001b[1;32m    786\u001b[0m                          \u001b[0minput_types\u001b[0m\u001b[0;34m=\u001b[0m\u001b[0minput_types\u001b[0m\u001b[0;34m,\u001b[0m \u001b[0mattrs\u001b[0m\u001b[0;34m=\u001b[0m\u001b[0mattr_protos\u001b[0m\u001b[0;34m,\u001b[0m\u001b[0;34m\u001b[0m\u001b[0m\n\u001b[0;32m--> 787\u001b[0;31m                          op_def=op_def)\n\u001b[0m\u001b[1;32m    788\u001b[0m       \u001b[0;32mreturn\u001b[0m \u001b[0moutput_structure\u001b[0m\u001b[0;34m,\u001b[0m \u001b[0mop_def\u001b[0m\u001b[0;34m.\u001b[0m\u001b[0mis_stateful\u001b[0m\u001b[0;34m,\u001b[0m \u001b[0mop\u001b[0m\u001b[0;34m\u001b[0m\u001b[0m\n\u001b[1;32m    789\u001b[0m \u001b[0;34m\u001b[0m\u001b[0m\n",
      "\u001b[0;32m~/PhD/code/.env3/lib/python3.5/site-packages/tensorflow/python/util/deprecation.py\u001b[0m in \u001b[0;36mnew_func\u001b[0;34m(*args, **kwargs)\u001b[0m\n\u001b[1;32m    486\u001b[0m                 \u001b[0;34m'in a future version'\u001b[0m \u001b[0;32mif\u001b[0m \u001b[0mdate\u001b[0m \u001b[0;32mis\u001b[0m \u001b[0;32mNone\u001b[0m \u001b[0;32melse\u001b[0m \u001b[0;34m(\u001b[0m\u001b[0;34m'after %s'\u001b[0m \u001b[0;34m%\u001b[0m \u001b[0mdate\u001b[0m\u001b[0;34m)\u001b[0m\u001b[0;34m,\u001b[0m\u001b[0;34m\u001b[0m\u001b[0m\n\u001b[1;32m    487\u001b[0m                 instructions)\n\u001b[0;32m--> 488\u001b[0;31m       \u001b[0;32mreturn\u001b[0m \u001b[0mfunc\u001b[0m\u001b[0;34m(\u001b[0m\u001b[0;34m*\u001b[0m\u001b[0margs\u001b[0m\u001b[0;34m,\u001b[0m \u001b[0;34m**\u001b[0m\u001b[0mkwargs\u001b[0m\u001b[0;34m)\u001b[0m\u001b[0;34m\u001b[0m\u001b[0m\n\u001b[0m\u001b[1;32m    489\u001b[0m     return tf_decorator.make_decorator(func, new_func, 'deprecated',\n\u001b[1;32m    490\u001b[0m                                        _add_deprecated_arg_notice_to_docstring(\n",
      "\u001b[0;32m~/PhD/code/.env3/lib/python3.5/site-packages/tensorflow/python/framework/ops.py\u001b[0m in \u001b[0;36mcreate_op\u001b[0;34m(***failed resolving arguments***)\u001b[0m\n\u001b[1;32m   3272\u001b[0m           \u001b[0minput_types\u001b[0m\u001b[0;34m=\u001b[0m\u001b[0minput_types\u001b[0m\u001b[0;34m,\u001b[0m\u001b[0;34m\u001b[0m\u001b[0m\n\u001b[1;32m   3273\u001b[0m           \u001b[0moriginal_op\u001b[0m\u001b[0;34m=\u001b[0m\u001b[0mself\u001b[0m\u001b[0;34m.\u001b[0m\u001b[0m_default_original_op\u001b[0m\u001b[0;34m,\u001b[0m\u001b[0;34m\u001b[0m\u001b[0m\n\u001b[0;32m-> 3274\u001b[0;31m           op_def=op_def)\n\u001b[0m\u001b[1;32m   3275\u001b[0m       \u001b[0mself\u001b[0m\u001b[0;34m.\u001b[0m\u001b[0m_create_op_helper\u001b[0m\u001b[0;34m(\u001b[0m\u001b[0mret\u001b[0m\u001b[0;34m,\u001b[0m \u001b[0mcompute_device\u001b[0m\u001b[0;34m=\u001b[0m\u001b[0mcompute_device\u001b[0m\u001b[0;34m)\u001b[0m\u001b[0;34m\u001b[0m\u001b[0m\n\u001b[1;32m   3276\u001b[0m     \u001b[0;32mreturn\u001b[0m \u001b[0mret\u001b[0m\u001b[0;34m\u001b[0m\u001b[0m\n",
      "\u001b[0;32m~/PhD/code/.env3/lib/python3.5/site-packages/tensorflow/python/framework/ops.py\u001b[0m in \u001b[0;36m__init__\u001b[0;34m(self, node_def, g, inputs, output_types, control_inputs, input_types, original_op, op_def)\u001b[0m\n\u001b[1;32m   1790\u001b[0m           op_def, inputs, node_def.attr)\n\u001b[1;32m   1791\u001b[0m       self._c_op = _create_c_op(self._graph, node_def, grouped_inputs,\n\u001b[0;32m-> 1792\u001b[0;31m                                 control_input_ops)\n\u001b[0m\u001b[1;32m   1793\u001b[0m \u001b[0;34m\u001b[0m\u001b[0m\n\u001b[1;32m   1794\u001b[0m     \u001b[0;31m# Initialize self._outputs.\u001b[0m\u001b[0;34m\u001b[0m\u001b[0;34m\u001b[0m\u001b[0m\n",
      "\u001b[0;32m~/PhD/code/.env3/lib/python3.5/site-packages/tensorflow/python/framework/ops.py\u001b[0m in \u001b[0;36m_create_c_op\u001b[0;34m(graph, node_def, inputs, control_inputs)\u001b[0m\n\u001b[1;32m   1629\u001b[0m   \u001b[0;32mexcept\u001b[0m \u001b[0merrors\u001b[0m\u001b[0;34m.\u001b[0m\u001b[0mInvalidArgumentError\u001b[0m \u001b[0;32mas\u001b[0m \u001b[0me\u001b[0m\u001b[0;34m:\u001b[0m\u001b[0;34m\u001b[0m\u001b[0m\n\u001b[1;32m   1630\u001b[0m     \u001b[0;31m# Convert to ValueError for backwards compatibility.\u001b[0m\u001b[0;34m\u001b[0m\u001b[0;34m\u001b[0m\u001b[0m\n\u001b[0;32m-> 1631\u001b[0;31m     \u001b[0;32mraise\u001b[0m \u001b[0mValueError\u001b[0m\u001b[0;34m(\u001b[0m\u001b[0mstr\u001b[0m\u001b[0;34m(\u001b[0m\u001b[0me\u001b[0m\u001b[0;34m)\u001b[0m\u001b[0;34m)\u001b[0m\u001b[0;34m\u001b[0m\u001b[0m\n\u001b[0m\u001b[1;32m   1632\u001b[0m \u001b[0;34m\u001b[0m\u001b[0m\n\u001b[1;32m   1633\u001b[0m   \u001b[0;32mreturn\u001b[0m \u001b[0mc_op\u001b[0m\u001b[0;34m\u001b[0m\u001b[0m\n",
      "\u001b[0;31mValueError\u001b[0m: Shape must be rank 2 but is rank 3 for 'Tile_1' (op: 'Tile') with input shapes: [2,3], [3]."
     ]
    }
   ],
   "source": [
    "import tensorflow as tf\n",
    "batch_size, n, m, k = 10, 3, 5, 2\n",
    "A = tf.Variable(tf.random_normal(shape=(k, n)))\n",
    "D = tf.tile(A, [3, k, n])\n",
    "B = tf.Variable(tf.random_normal(shape=(batch_size, m, k)))\n",
    "C = tf.matmul(A, B)\n",
    "\n",
    "sess = tf.Session()\n",
    "sess.run(tf.global_variables_initializer())\n",
    "\n",
    "\n",
    "m, n = sess.run([A, D])\n",
    "print(m, n)"
   ]
  },
  {
   "cell_type": "code",
   "execution_count": 52,
   "metadata": {},
   "outputs": [],
   "source": [
    "import numpy as np\n",
    "import matplotlib.pyplot as plt\n",
    "import matplotlib.font_manager\n",
    "plt.rc('font', size=8.5)\n",
    "\n",
    "pred = np.load(\"../bridgestone/pred.npz\")\n",
    "test = pred[\"test\"]\n",
    "x1 = pred[\"x1\"]\n",
    "y1 = pred[\"y1\"]\n",
    "pred = pred[\"pred\"]\n",
    "outlier = test[pred==-1]\n",
    "normal = test[pred!=-1]\n",
    "b1 = plt.scatter(x1, y1, c='blue', s=15, marker='o', linewidth=0.5, edgecolor=(0, 0, 0, 0.5))\n",
    "b2 = plt.scatter(outlier[:,0], outlier[:,1], c='blueviolet', s=15, marker='o', linewidth=0.5, edgecolor=(0, 0, 0, 0.5))\n",
    "c = plt.scatter(normal[:,0], normal[:,1], c='gold', s=15, marker='o', linewidth=0.5, edgecolor=(0, 0, 0, 0.5))\n",
    "yl = np.linspace(0, 16, 10)\n",
    "# xl1 = np.array(np.log(yl) + np.log(2151))\n",
    "# xl2 = np.array(np.log(yl) + np.log(27727))\n",
    "xl1 = np.array(2151*yl)\n",
    "xl2 = np.array(27727*yl)\n",
    "c2, = plt.plot(xl1, yl, c='red', linewidth=1)\n",
    "c3, = plt.plot(xl2, yl, c='red', linewidth=1)\n",
    "plt.axis('tight')\n",
    "# plt.xlim((0, np.log(500000)))\n",
    "plt.xlim((0,450000))\n",
    "plt.ylim((0, 16))\n",
    "plt.xlabel(\"Distance\")\n",
    "plt.ylabel(\"Erosion\")\n",
    "plt.legend([ b1, b2, c, c2],\n",
    "           [\"Train data\",\n",
    "            \"shop anomalies\", \"shop normal data\", \"separation line between outlier and normal area\"],\n",
    "           loc=\"upper left\",\n",
    "           prop=matplotlib.font_manager.FontProperties(size=10), \n",
    "          framealpha=1, edgecolor=(0, 0, 0, 0.5), scatterpoints=3)\n",
    "plt.title(\n",
    "    \"Shop D14 ; errors novel regular: %d/%d ; \"\n",
    "    % (len(outlier), len(test)))\n",
    "plt.savefig(\"../../paper/IFCS/img/LOFD14\", dpi = 440)\n",
    "plt.close()"
   ]
  },
  {
   "cell_type": "code",
   "execution_count": null,
   "metadata": {},
   "outputs": [],
   "source": []
  },
  {
   "cell_type": "code",
   "execution_count": null,
   "metadata": {},
   "outputs": [],
   "source": []
  }
 ],
 "metadata": {
  "kernelspec": {
   "display_name": "Python 3",
   "language": "python",
   "name": "python3"
  },
  "language_info": {
   "codemirror_mode": {
    "name": "ipython",
    "version": 3
   },
   "file_extension": ".py",
   "mimetype": "text/x-python",
   "name": "python",
   "nbconvert_exporter": "python",
   "pygments_lexer": "ipython3",
   "version": "3.5.0"
  }
 },
 "nbformat": 4,
 "nbformat_minor": 2
}
