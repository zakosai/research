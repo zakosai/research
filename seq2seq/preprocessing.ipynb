{
 "cells": [
  {
   "cell_type": "markdown",
   "metadata": {},
   "source": [
    "# read file"
   ]
  },
  {
   "cell_type": "code",
   "execution_count": 2,
   "metadata": {},
   "outputs": [],
   "source": [
    "DATA_DIR=\"data/ml-1m\"\n",
    "import pandas as pd\n",
    "import numpy as np"
   ]
  },
  {
   "cell_type": "code",
   "execution_count": 6,
   "metadata": {},
   "outputs": [
    {
     "name": "stderr",
     "output_type": "stream",
     "text": [
      "/Users/linh/PhD/code/.env3/lib/python3.5/site-packages/ipykernel_launcher.py:1: ParserWarning: Falling back to the 'python' engine because the 'c' engine does not support regex separators (separators > 1 char and different from '\\s+' are interpreted as regex); you can avoid this warning by specifying engine='python'.\n",
      "  \"\"\"Entry point for launching an IPython kernel.\n"
     ]
    },
    {
     "data": {
      "text/html": [
       "<div>\n",
       "<style scoped>\n",
       "    .dataframe tbody tr th:only-of-type {\n",
       "        vertical-align: middle;\n",
       "    }\n",
       "\n",
       "    .dataframe tbody tr th {\n",
       "        vertical-align: top;\n",
       "    }\n",
       "\n",
       "    .dataframe thead th {\n",
       "        text-align: right;\n",
       "    }\n",
       "</style>\n",
       "<table border=\"1\" class=\"dataframe\">\n",
       "  <thead>\n",
       "    <tr style=\"text-align: right;\">\n",
       "      <th></th>\n",
       "      <th>userID</th>\n",
       "      <th>itemID</th>\n",
       "      <th>ratings</th>\n",
       "      <th>timestamp</th>\n",
       "    </tr>\n",
       "  </thead>\n",
       "  <tbody>\n",
       "    <tr>\n",
       "      <th>0</th>\n",
       "      <td>1</td>\n",
       "      <td>1193</td>\n",
       "      <td>5</td>\n",
       "      <td>978300760</td>\n",
       "    </tr>\n",
       "    <tr>\n",
       "      <th>1</th>\n",
       "      <td>1</td>\n",
       "      <td>661</td>\n",
       "      <td>3</td>\n",
       "      <td>978302109</td>\n",
       "    </tr>\n",
       "    <tr>\n",
       "      <th>2</th>\n",
       "      <td>1</td>\n",
       "      <td>914</td>\n",
       "      <td>3</td>\n",
       "      <td>978301968</td>\n",
       "    </tr>\n",
       "    <tr>\n",
       "      <th>3</th>\n",
       "      <td>1</td>\n",
       "      <td>3408</td>\n",
       "      <td>4</td>\n",
       "      <td>978300275</td>\n",
       "    </tr>\n",
       "    <tr>\n",
       "      <th>4</th>\n",
       "      <td>1</td>\n",
       "      <td>2355</td>\n",
       "      <td>5</td>\n",
       "      <td>978824291</td>\n",
       "    </tr>\n",
       "  </tbody>\n",
       "</table>\n",
       "</div>"
      ],
      "text/plain": [
       "   userID  itemID  ratings  timestamp\n",
       "0       1    1193        5  978300760\n",
       "1       1     661        3  978302109\n",
       "2       1     914        3  978301968\n",
       "3       1    3408        4  978300275\n",
       "4       1    2355        5  978824291"
      ]
     },
     "execution_count": 6,
     "metadata": {},
     "output_type": "execute_result"
    }
   ],
   "source": [
    "data = pd.read_table(\"%s/ratings.dat\"%DATA_DIR, delimiter=\"::\", header=None)\n",
    "data.rename(index=str, columns={0:'userID', 1:'itemID', 2:'ratings', 3:'timestamp'}, inplace=True)\n",
    "data.head()"
   ]
  },
  {
   "cell_type": "code",
   "execution_count": 4,
   "metadata": {},
   "outputs": [
    {
     "name": "stderr",
     "output_type": "stream",
     "text": [
      "/Users/linh/PhD/code/.env3/lib/python3.5/site-packages/ipykernel_launcher.py:1: ParserWarning: Falling back to the 'python' engine because the 'c' engine does not support regex separators (separators > 1 char and different from '\\s+' are interpreted as regex); you can avoid this warning by specifying engine='python'.\n",
      "  \"\"\"Entry point for launching an IPython kernel.\n"
     ]
    },
    {
     "data": {
      "text/html": [
       "<div>\n",
       "<style scoped>\n",
       "    .dataframe tbody tr th:only-of-type {\n",
       "        vertical-align: middle;\n",
       "    }\n",
       "\n",
       "    .dataframe tbody tr th {\n",
       "        vertical-align: top;\n",
       "    }\n",
       "\n",
       "    .dataframe thead th {\n",
       "        text-align: right;\n",
       "    }\n",
       "</style>\n",
       "<table border=\"1\" class=\"dataframe\">\n",
       "  <thead>\n",
       "    <tr style=\"text-align: right;\">\n",
       "      <th></th>\n",
       "      <th>0</th>\n",
       "      <th>1</th>\n",
       "      <th>2</th>\n",
       "    </tr>\n",
       "  </thead>\n",
       "  <tbody>\n",
       "    <tr>\n",
       "      <th>0</th>\n",
       "      <td>1</td>\n",
       "      <td>Toy Story (1995)</td>\n",
       "      <td>Animation|Children's|Comedy</td>\n",
       "    </tr>\n",
       "    <tr>\n",
       "      <th>1</th>\n",
       "      <td>2</td>\n",
       "      <td>Jumanji (1995)</td>\n",
       "      <td>Adventure|Children's|Fantasy</td>\n",
       "    </tr>\n",
       "    <tr>\n",
       "      <th>2</th>\n",
       "      <td>3</td>\n",
       "      <td>Grumpier Old Men (1995)</td>\n",
       "      <td>Comedy|Romance</td>\n",
       "    </tr>\n",
       "    <tr>\n",
       "      <th>3</th>\n",
       "      <td>4</td>\n",
       "      <td>Waiting to Exhale (1995)</td>\n",
       "      <td>Comedy|Drama</td>\n",
       "    </tr>\n",
       "    <tr>\n",
       "      <th>4</th>\n",
       "      <td>5</td>\n",
       "      <td>Father of the Bride Part II (1995)</td>\n",
       "      <td>Comedy</td>\n",
       "    </tr>\n",
       "  </tbody>\n",
       "</table>\n",
       "</div>"
      ],
      "text/plain": [
       "   0                                   1                             2\n",
       "0  1                    Toy Story (1995)   Animation|Children's|Comedy\n",
       "1  2                      Jumanji (1995)  Adventure|Children's|Fantasy\n",
       "2  3             Grumpier Old Men (1995)                Comedy|Romance\n",
       "3  4            Waiting to Exhale (1995)                  Comedy|Drama\n",
       "4  5  Father of the Bride Part II (1995)                        Comedy"
      ]
     },
     "execution_count": 4,
     "metadata": {},
     "output_type": "execute_result"
    }
   ],
   "source": [
    "movies_info = pd.read_table(\"data/ml-1m/movies.dat\", delimiter=\"::\", header=None)\n",
    "movies_info.rename(index=str, columns={0:'userID', 1:'itemID', 2:'ratings', 3:'timestamp'}, inplace=True)\n",
    "movies_info.head()"
   ]
  },
  {
   "cell_type": "markdown",
   "metadata": {},
   "source": [
    "# Matching new userID, itemID"
   ]
  },
  {
   "cell_type": "code",
   "execution_count": 3,
   "metadata": {},
   "outputs": [
    {
     "name": "stdout",
     "output_type": "stream",
     "text": [
      "# num of user: 6040 \n",
      "# num of item: 3706\n"
     ]
    }
   ],
   "source": [
    "item = sorted(data.itemID.unique())\n",
    "user = sorted(data.userID.unique())\n",
    "print(\"# num of user: %d \\n# num of item: %d\"%(len(user), len(item)))"
   ]
  },
  {
   "cell_type": "code",
   "execution_count": 4,
   "metadata": {},
   "outputs": [],
   "source": [
    "# Group data following user\n",
    "\n",
    "n_user = len(user)\n",
    "n_item = len(item)\n",
    "\n",
    "previous_user_id = 0\n",
    "ratings = []\n",
    "for _, r in data.iterrows():\n",
    "    if r.userID == previous_user_id:\n",
    "        iid = item.index(r.itemID)\n",
    "        ratings[-1].append([iid, r.ratings, r.timestamp])\n",
    "    elif r.userID == previous_user_id + 1:\n",
    "        iid = item.index(r.itemID)\n",
    "        ratings.append([[iid, r.ratings, r.timestamp]])\n",
    "        previous_user_id = r.userID\n",
    "    else:\n",
    "        print(r, previous_user_id)\n",
    "        break"
   ]
  },
  {
   "cell_type": "code",
   "execution_count": 5,
   "metadata": {},
   "outputs": [
    {
     "name": "stdout",
     "output_type": "stream",
     "text": [
      "Max item user rated: 2314\n",
      "Min item user rated: 20\n",
      "Mean item user rated: 165\n"
     ]
    }
   ],
   "source": [
    "# Summary information\n",
    "\n",
    "print(\"Max item user rated: %d\"%max([len(i) for i in ratings]))\n",
    "print(\"Min item user rated: %d\"%min([len(i) for i in ratings]))\n",
    "print(\"Mean item user rated: %d\"%np.mean([len(i) for i in ratings]))\n"
   ]
  },
  {
   "cell_type": "code",
   "execution_count": 7,
   "metadata": {},
   "outputs": [],
   "source": [
    "f = open(\"%s/ratings.txt\"%DATA_DIR, \"w\")\n",
    "for uid, u in enumerate(ratings):\n",
    "    arr = np.array(u)\n",
    "    arr = arr[np.argsort(arr[:, 2])]\n",
    "    for i in arr:\n",
    "        r = [str(j) for j in i]\n",
    "        f.write(\"%d %s\\n\"%(uid, \" \".join(r)))\n",
    "f.close()"
   ]
  },
  {
   "cell_type": "code",
   "execution_count": 26,
   "metadata": {},
   "outputs": [],
   "source": [
    "# write new id of items into file\n",
    "tmp = [str(i) for i in item]\n",
    "f = open(\"%s/item_id.txt\"%DATA_DIR, \"w\")\n",
    "f.write(\"\\n\".join(tmp))\n",
    "f.close()"
   ]
  },
  {
   "cell_type": "markdown",
   "metadata": {},
   "source": [
    "# Prepare Train, Test "
   ]
  },
  {
   "cell_type": "code",
   "execution_count": 33,
   "metadata": {},
   "outputs": [],
   "source": [
    "shuffle_id = np.random.permutation(n_user)\n",
    "train_id = shuffle_id[604:]\n",
    "test_id = shuffle_id[:604]\n",
    "\n",
    "ftrain = open(\"%s/implicit/train.txt\"%DATA_DIR, \"w\")\n",
    "for idx in train_id:\n",
    "    user = np.array(ratings[idx]).reshape((len(ratings[idx]), 3))\n",
    "    user = user[np.argsort(user[:, 2])]\n",
    "    item = list(user[:, 0])\n",
    "    item = [str(i) for i in item]\n",
    "    ftrain.write(\"%d %s\\n\"%(idx, \" \".join(item)))\n",
    "ftrain.close()\n",
    "\n",
    "ftest = open(\"%s/implicit/test.txt\"%DATA_DIR, \"w\")\n",
    "for idx in test_id:\n",
    "    user = np.array(ratings[idx]).reshape((len(ratings[idx]), 3))\n",
    "    user = user[np.argsort(user[:, 2])]\n",
    "    item = list(user[:, 0])\n",
    "    item = [str(i) for i in item]\n",
    "    ftest.write(\"%d %s\\n\"%(idx, \" \".join(item)))\n",
    "ftest.close()\n",
    "    \n",
    "    \n",
    "                                          "
   ]
  },
  {
   "cell_type": "markdown",
   "metadata": {},
   "source": [
    "## Create item description for cf-vae"
   ]
  },
  {
   "cell_type": "code",
   "execution_count": 9,
   "metadata": {},
   "outputs": [
    {
     "data": {
      "text/plain": [
       "['A little boy named Andy loves to be in his room, playing with his toys, especially his doll named \"Woody\". But, what do the toys do when Andy is not with them, they come to life. Woody believes that he has life (as a toy) good. However, he must worry about Andy\\'s family moving, and what Woody does not know is about Andy\\'s birthday party. Woody does not realize that Andy\\'s mother gave him an action figure known as Buzz Lightyear, who does not believe that he is a toy, and quickly becomes Andy\\'s new favorite toy. Woody, who is now consumed with jealousy, tries to get rid of Buzz. Then, both Woody and Buzz are now lost. They must find a way to get back to Andy before he moves without them, but they will have to pass through a ruthless toy killer, Sid Phillips.',\n",
       " 'After being trapped in a jungle board game for 26 years, a Man-Child wins his release from the game. But, no sooner has he arrived that he is forced to play again, and this time sets the creatures of the jungle loose on the city. Now it is up to him to stop them.']"
      ]
     },
     "execution_count": 9,
     "metadata": {},
     "output_type": "execute_result"
    }
   ],
   "source": [
    "# read movie description\n",
    "des = list(open(\"data/ml-1m/movie_description.txt\"))\n",
    "des = [d.strip() for d in des]\n",
    "\n",
    "# item id\n",
    "item = sorted(data.itemID.unique())\n",
    "movie_list = list(movies_info[0])\n",
    "\n",
    "# matching\n",
    "text = []\n",
    "for i in item:\n",
    "    idx = movie_list.index(i)\n",
    "    text.append(des[idx*2+1])\n",
    "text[:2]"
   ]
  },
  {
   "cell_type": "code",
   "execution_count": 12,
   "metadata": {},
   "outputs": [],
   "source": [
    "# write file\n",
    "# f = open(\"data/ml-1m/description_fix.txt\", \"w\")\n",
    "# f.write(\"\\n\".join(text))\n",
    "# f.close()\n",
    "\n",
    "# tf-idf\n",
    "from sklearn.feature_extraction.text import TfidfVectorizer\n",
    "from scipy.sparse import save_npz\n",
    "vectorizer = TfidfVectorizer()\n",
    "X = vectorizer.fit_transform(text)\n",
    "save_npz(\"data/ml-1m/item.npz\", X)"
   ]
  },
  {
   "cell_type": "markdown",
   "metadata": {},
   "source": [
    "# Domain-to-domain"
   ]
  },
  {
   "cell_type": "code",
   "execution_count": 14,
   "metadata": {},
   "outputs": [
    {
     "name": "stderr",
     "output_type": "stream",
     "text": [
      "/Users/linh/PhD/code/.env3/lib/python3.5/site-packages/ipykernel_launcher.py:1: ParserWarning: Falling back to the 'python' engine because the 'c' engine does not support regex separators (separators > 1 char and different from '\\s+' are interpreted as regex); you can avoid this warning by specifying engine='python'.\n",
      "  \"\"\"Entry point for launching an IPython kernel.\n"
     ]
    },
    {
     "data": {
      "text/html": [
       "<div>\n",
       "<style scoped>\n",
       "    .dataframe tbody tr th:only-of-type {\n",
       "        vertical-align: middle;\n",
       "    }\n",
       "\n",
       "    .dataframe tbody tr th {\n",
       "        vertical-align: top;\n",
       "    }\n",
       "\n",
       "    .dataframe thead th {\n",
       "        text-align: right;\n",
       "    }\n",
       "</style>\n",
       "<table border=\"1\" class=\"dataframe\">\n",
       "  <thead>\n",
       "    <tr style=\"text-align: right;\">\n",
       "      <th></th>\n",
       "      <th>moviesID</th>\n",
       "      <th>title</th>\n",
       "      <th>genres</th>\n",
       "    </tr>\n",
       "  </thead>\n",
       "  <tbody>\n",
       "    <tr>\n",
       "      <th>0</th>\n",
       "      <td>1</td>\n",
       "      <td>Toy Story (1995)</td>\n",
       "      <td>Animation|Children's|Comedy</td>\n",
       "    </tr>\n",
       "    <tr>\n",
       "      <th>1</th>\n",
       "      <td>2</td>\n",
       "      <td>Jumanji (1995)</td>\n",
       "      <td>Adventure|Children's|Fantasy</td>\n",
       "    </tr>\n",
       "    <tr>\n",
       "      <th>2</th>\n",
       "      <td>3</td>\n",
       "      <td>Grumpier Old Men (1995)</td>\n",
       "      <td>Comedy|Romance</td>\n",
       "    </tr>\n",
       "    <tr>\n",
       "      <th>3</th>\n",
       "      <td>4</td>\n",
       "      <td>Waiting to Exhale (1995)</td>\n",
       "      <td>Comedy|Drama</td>\n",
       "    </tr>\n",
       "    <tr>\n",
       "      <th>4</th>\n",
       "      <td>5</td>\n",
       "      <td>Father of the Bride Part II (1995)</td>\n",
       "      <td>Comedy</td>\n",
       "    </tr>\n",
       "  </tbody>\n",
       "</table>\n",
       "</div>"
      ],
      "text/plain": [
       "   moviesID                               title                        genres\n",
       "0         1                    Toy Story (1995)   Animation|Children's|Comedy\n",
       "1         2                      Jumanji (1995)  Adventure|Children's|Fantasy\n",
       "2         3             Grumpier Old Men (1995)                Comedy|Romance\n",
       "3         4            Waiting to Exhale (1995)                  Comedy|Drama\n",
       "4         5  Father of the Bride Part II (1995)                        Comedy"
      ]
     },
     "execution_count": 14,
     "metadata": {},
     "output_type": "execute_result"
    }
   ],
   "source": [
    "movies = pd.read_table(\"%s/movies.dat\"%DATA_DIR, delimiter=\"::\", header=None)\n",
    "movies.rename(index=str, columns={0:'moviesID', 1:'title', 2:'genres'}, inplace=True)\n",
    "movies.head()"
   ]
  },
  {
   "cell_type": "code",
   "execution_count": 22,
   "metadata": {},
   "outputs": [],
   "source": [
    "movie_ids = list(open(\"../data/ml-1m/item_id.txt\"))\n",
    "movie_ids = [int(s.strip()) for s in movie_ids]\n",
    "movies = movies[movies.moviesID.isin(movie_ids)]"
   ]
  },
  {
   "cell_type": "code",
   "execution_count": 25,
   "metadata": {},
   "outputs": [
    {
     "data": {
      "text/plain": [
       "[[3943, 'Bamboozled (2000)', 'Comedy'],\n",
       " [3944, 'Bootmen (2000)', 'Comedy|Drama'],\n",
       " [3945, 'Digimon: The Movie (2000)', \"Adventure|Animation|Children's\"],\n",
       " [3946, 'Get Carter (2000)', 'Action|Drama|Thriller'],\n",
       " [3947, 'Get Carter (1971)', 'Thriller'],\n",
       " [3948, 'Meet the Parents (2000)', 'Comedy'],\n",
       " [3949, 'Requiem for a Dream (2000)', 'Drama'],\n",
       " [3950, 'Tigerland (2000)', 'Drama'],\n",
       " [3951, 'Two Family House (2000)', 'Drama'],\n",
       " [3952, 'Contender, The (2000)', 'Drama|Thriller']]"
      ]
     },
     "execution_count": 25,
     "metadata": {},
     "output_type": "execute_result"
    }
   ],
   "source": [
    "movies = movies.values.tolist()\n",
    "movies[-10:]"
   ]
  },
  {
   "cell_type": "code",
   "execution_count": 28,
   "metadata": {},
   "outputs": [
    {
     "name": "stdout",
     "output_type": "stream",
     "text": [
      "[3186, 'Girl, Interrupted (1999)', 'Drama'] [     2969         4 978300019]\n",
      "[1721, 'Titanic (1997)', 'Drama|Romance'] [     1574         4 978300055]\n",
      "[1022, 'Cinderella (1950)', \"Animation|Children's|Musical\"] [      957         5 978300055]\n",
      "[1270, 'Back to the Future (1985)', 'Comedy|Sci-Fi'] [     1178         5 978300055]\n",
      "[2340, 'Meet Joe Black (1998)', 'Romance'] [     2147         3 978300103]\n",
      "[1836, 'Last Days of Disco, The (1998)', 'Drama'] [     1658         5 978300172]\n",
      "[3408, 'Erin Brockovich (2000)', 'Drama'] [     3177         4 978300275]\n",
      "[1207, 'To Kill a Mockingbird (1962)', 'Drama'] [     1117         4 978300719]\n",
      "[2804, 'Christmas Story, A (1983)', 'Comedy|Drama'] [     2599         5 978300719]\n",
      "[720, 'Wallace & Gromit: The Best of Aardman Animation (1996)', 'Animation'] [      689         3 978300760]\n",
      "[1193, \"One Flew Over the Cuckoo's Nest (1975)\", 'Drama'] [     1104         5 978300760]\n",
      "[260, 'Star Wars: Episode IV - A New Hope (1977)', 'Action|Adventure|Fantasy|Sci-Fi'] [      253         4 978300760]\n",
      "[919, 'Wizard of Oz, The (1939)', \"Adventure|Children's|Drama|Musical\"] [      858         4 978301368]\n",
      "[608, 'Fargo (1996)', 'Crime|Drama|Thriller'] [      593         4 978301398]\n",
      "[2692, 'Run Lola Run (Lola rennt) (1998)', 'Action|Crime|Romance'] [     2488         4 978301570]\n",
      "[1961, 'Rain Man (1988)', 'Drama'] [     1781         5 978301590]\n",
      "[2028, 'Saving Private Ryan (1998)', 'Action|Drama|War'] [     1848         5 978301619]\n",
      "[3105, 'Awakenings (1990)', 'Drama'] [     2889         5 978301713]\n",
      "[938, 'Gigi (1958)', 'Musical'] [      877         4 978301752]\n",
      "[1962, 'Driving Miss Daisy (1989)', 'Drama'] [     1782         4 978301753]\n",
      "[1035, 'Sound of Music, The (1965)', 'Musical'] [      970         5 978301753]\n",
      "[150, 'Apollo 13 (1995)', 'Drama'] [      144         5 978301777]\n",
      "[2018, 'Bambi (1942)', \"Animation|Children's\"] [     1838         4 978301777]\n",
      "[1028, 'Mary Poppins (1964)', \"Children's|Comedy|Musical\"] [      963         5 978301777]\n",
      "[1097, 'E.T. the Extra-Terrestrial (1982)', \"Children's|Drama|Fantasy|Sci-Fi\"] [     1025         4 978301953]\n",
      "[914, 'My Fair Lady (1964)', 'Musical|Romance'] [      853         3 978301968]\n",
      "[2797, 'Big (1988)', 'Comedy|Fantasy'] [     2592         4 978302039]\n",
      "[1287, 'Ben-Hur (1959)', 'Action|Adventure|Drama'] [     1195         5 978302039]\n",
      "[2762, 'Sixth Sense, The (1999)', 'Thriller'] [     2557         4 978302091]\n",
      "[1246, 'Dead Poets Society (1989)', 'Drama'] [     1154         4 978302091]\n",
      "[661, 'James and the Giant Peach (1996)', \"Animation|Children's|Musical\"] [      639         3 978302109]\n",
      "[2918, \"Ferris Bueller's Day Off (1986)\", 'Comedy'] [     2710         4 978302124]\n",
      "[531, 'Secret Garden, The (1993)', \"Children's|Drama\"] [      517         4 978302149]\n",
      "[3114, 'Toy Story 2 (1999)', \"Animation|Children's|Comedy\"] [     2898         4 978302174]\n",
      "[2791, 'Airplane! (1980)', 'Comedy'] [     2586         4 978302188]\n",
      "[1029, 'Dumbo (1941)', \"Animation|Children's|Musical\"] [      964         5 978302205]\n",
      "[2321, 'Pleasantville (1998)', 'Comedy'] [     2128         3 978302205]\n",
      "[1197, 'Princess Bride, The (1987)', 'Action|Adventure|Comedy|Romance'] [     1107         3 978302268]\n",
      "[594, 'Snow White and the Seven Dwarfs (1937)', \"Animation|Children's|Musical\"] [      580         4 978302268]\n",
      "[2398, 'Miracle on 34th Street (1947)', 'Drama'] [     2205         4 978302281]\n",
      "[1545, 'Ponette (1996)', 'Drama'] [     1421         4 978824139]\n",
      "[527, \"Schindler's List (1993)\", 'Drama|War'] [      513         5 978824195]\n",
      "[1, 'Toy Story (1995)', \"Animation|Children's|Comedy\"] [        0         5 978824268]\n",
      "[588, 'Aladdin (1992)', \"Animation|Children's|Comedy|Musical\"] [      574         4 978824268]\n",
      "[2687, 'Tarzan (1999)', \"Animation|Children's\"] [     2483         3 978824268]\n",
      "[745, 'Close Shave, A (1995)', 'Animation|Comedy|Thriller'] [      708         3 978824268]\n",
      "[595, 'Beauty and the Beast (1991)', \"Animation|Children's|Musical\"] [      581         5 978824268]\n",
      "[2294, 'Antz (1998)', \"Animation|Children's\"] [     2102         4 978824291]\n",
      "[783, 'Hunchback of Notre Dame, The (1996)', \"Animation|Children's|Musical\"] [      740         4 978824291]\n",
      "[2355, \"Bug's Life, A (1998)\", \"Animation|Children's|Comedy\"] [     2162         5 978824291]\n",
      "[1907, 'Mulan (1998)', \"Animation|Children's\"] [     1727         4 978824330]\n",
      "[1566, 'Hercules (1997)', \"Adventure|Animation|Children's|Comedy|Musical\"] [     1439         4 978824330]\n",
      "[48, 'Pocahontas (1995)', \"Animation|Children's|Musical|Romance\"] [       47         5 978824351]\n"
     ]
    }
   ],
   "source": [
    "u = ratings[0]\n",
    "arr = np.array(u)\n",
    "arr = arr[np.argsort(arr[:, 2])]\n",
    "for i in range(len(arr)):\n",
    "    print(movies[arr[i, 0]], arr[i])"
   ]
  },
  {
   "cell_type": "code",
   "execution_count": null,
   "metadata": {},
   "outputs": [],
   "source": []
  }
 ],
 "metadata": {
  "kernelspec": {
   "display_name": "Python 3",
   "language": "python",
   "name": "python3"
  },
  "language_info": {
   "codemirror_mode": {
    "name": "ipython",
    "version": 3
   },
   "file_extension": ".py",
   "mimetype": "text/x-python",
   "name": "python",
   "nbconvert_exporter": "python",
   "pygments_lexer": "ipython3",
   "version": "3.5.0"
  }
 },
 "nbformat": 4,
 "nbformat_minor": 2
}
